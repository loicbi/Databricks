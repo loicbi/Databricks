{
  "nbformat": 4,
  "nbformat_minor": 0,
  "metadata": {
    "colab": {
      "provenance": [],
      "mount_file_id": "1rOlnpxy_p3aDFuHKpjRlBI7h9M-NwkqV",
      "authorship_tag": "ABX9TyNK2sT9rpEoaqQgvteF1NcC"
    },
    "kernelspec": {
      "name": "python3",
      "display_name": "Python 3"
    },
    "language_info": {
      "name": "python"
    }
  },
  "cells": [
    {
      "cell_type": "code",
      "source": [
        "from google.colab import drive\n",
        "drive.mount('/content/drive')"
      ],
      "metadata": {
        "id": "5poKsdENgL1a"
      },
      "execution_count": null,
      "outputs": []
    },
    {
      "cell_type": "code",
      "source": [
        "!pip install findspark"
      ],
      "metadata": {
        "id": "PAHeaUwSIS1Y"
      },
      "execution_count": null,
      "outputs": []
    },
    {
      "cell_type": "code",
      "execution_count": null,
      "metadata": {
        "id": "q3N_gZyPFhMw"
      },
      "outputs": [],
      "source": [
        "!pip install pyspark"
      ]
    },
    {
      "cell_type": "code",
      "source": [
        "import findspark\n",
        "from pyspark.sql.functions import  * # to_date, col, split, char_length, lit, trim\n",
        "# findspark.init()\n",
        "from pyspark.sql import SparkSession\n",
        "# Create a SparkSession\n",
        "spark = SparkSession.builder.getOrCreate()\n",
        "# spark = SparkSession.builder.appName(\"app_name\").getOrCreate()\n",
        "spark.conf.set(\"spark.sql.legacy.timeParserPolicy\", \"LEGACY\")\n",
        "df = spark.read.format('csv').option('header', True)\\\n",
        "          .option('inferSchema', True)\\\n",
        "          .option('sep', ',')\\\n",
        "          .load('/content/drive/MyDrive/DATA_ENGINEER/DATABRICKS/AAAA_________IAM___CODING_____Colab Notebooks/Learning/datasset/AFCON/Africa Cup of Nations Players.csv')\n",
        "\n",
        "df.printSchema()\n",
        "df.show(10)\n"
      ],
      "metadata": {
        "id": "2YNmbGsDFon9"
      },
      "execution_count": null,
      "outputs": []
    },
    {
      "cell_type": "markdown",
      "source": [
        "## Remove space in columns and rows"
      ],
      "metadata": {
        "id": "Jt82FpsPY7uo"
      }
    },
    {
      "cell_type": "code",
      "source": [
        "# Create a list of tuples where the first element is the old column name and the second element is the new column name\n",
        "rename_columns = [(c, c.strip()) for c in df.columns]\n",
        "\n",
        "# Use the withColumnRenamed method with a dictionary to rename multiple columns\n",
        "\n",
        "for current_name, new_name in rename_columns:\n",
        "    df = df.withColumnRenamed(current_name, new_name)\n",
        "    df = df.withColumn(new_name, trim(df[new_name]))\n",
        "\n",
        "\n",
        "# Print the schema of the renamed DataFrame\n",
        "df.printSchema()\n",
        "df.show(10)"
      ],
      "metadata": {
        "id": "fnBSNxaMfzNK"
      },
      "execution_count": null,
      "outputs": []
    },
    {
      "cell_type": "code",
      "source": [],
      "metadata": {
        "id": "APP9hQiJTRRy"
      },
      "execution_count": null,
      "outputs": []
    }
  ]
}