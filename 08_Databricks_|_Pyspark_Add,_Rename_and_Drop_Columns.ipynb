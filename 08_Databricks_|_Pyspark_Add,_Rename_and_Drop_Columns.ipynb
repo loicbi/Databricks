{
  "nbformat": 4,
  "nbformat_minor": 0,
  "metadata": {
    "colab": {
      "provenance": [],
      "mount_file_id": "1rOlnpxy_p3aDFuHKpjRlBI7h9M-NwkqV",
      "authorship_tag": "ABX9TyOkfEkBFS60apIltvlbp+ki",
      "include_colab_link": true
    },
    "kernelspec": {
      "name": "python3",
      "display_name": "Python 3"
    },
    "language_info": {
      "name": "python"
    }
  },
  "cells": [
    {
      "cell_type": "markdown",
      "metadata": {
        "id": "view-in-github",
        "colab_type": "text"
      },
      "source": [
        "<a href=\"https://colab.research.google.com/github/loicbi/Databricks/blob/develop/08_Databricks_%7C_Pyspark_Add%2C_Rename_and_Drop_Columns.ipynb\" target=\"_parent\"><img src=\"https://colab.research.google.com/assets/colab-badge.svg\" alt=\"Open In Colab\"/></a>"
      ]
    },
    {
      "cell_type": "code",
      "source": [
        "from google.colab import drive\n",
        "drive.mount('/content/drive')"
      ],
      "metadata": {
        "id": "5poKsdENgL1a",
        "colab": {
          "base_uri": "https://localhost:8080/"
        },
        "outputId": "b8701902-32f5-4b08-9587-6d7af11d6eee"
      },
      "execution_count": 1,
      "outputs": [
        {
          "output_type": "stream",
          "name": "stdout",
          "text": [
            "Mounted at /content/drive\n"
          ]
        }
      ]
    },
    {
      "cell_type": "code",
      "source": [
        "!pip install findspark"
      ],
      "metadata": {
        "colab": {
          "base_uri": "https://localhost:8080/"
        },
        "id": "PAHeaUwSIS1Y",
        "outputId": "2e7b0a89-3ad2-45d9-8908-3c5b5c36460f"
      },
      "execution_count": 2,
      "outputs": [
        {
          "output_type": "stream",
          "name": "stdout",
          "text": [
            "Collecting findspark\n",
            "  Downloading findspark-2.0.1-py2.py3-none-any.whl (4.4 kB)\n",
            "Installing collected packages: findspark\n",
            "Successfully installed findspark-2.0.1\n"
          ]
        }
      ]
    },
    {
      "cell_type": "code",
      "execution_count": 3,
      "metadata": {
        "colab": {
          "base_uri": "https://localhost:8080/"
        },
        "id": "q3N_gZyPFhMw",
        "outputId": "f103a906-6bb1-457c-af72-ca4bf16aea3f"
      },
      "outputs": [
        {
          "output_type": "stream",
          "name": "stdout",
          "text": [
            "Collecting pyspark\n",
            "  Downloading pyspark-3.5.1.tar.gz (317.0 MB)\n",
            "\u001b[2K     \u001b[90m━━━━━━━━━━━━━━━━━━━━━━━━━━━━━━━━━━━━━━━━\u001b[0m \u001b[32m317.0/317.0 MB\u001b[0m \u001b[31m3.3 MB/s\u001b[0m eta \u001b[36m0:00:00\u001b[0m\n",
            "\u001b[?25h  Preparing metadata (setup.py) ... \u001b[?25l\u001b[?25hdone\n",
            "Requirement already satisfied: py4j==0.10.9.7 in /usr/local/lib/python3.10/dist-packages (from pyspark) (0.10.9.7)\n",
            "Building wheels for collected packages: pyspark\n",
            "  Building wheel for pyspark (setup.py) ... \u001b[?25l\u001b[?25hdone\n",
            "  Created wheel for pyspark: filename=pyspark-3.5.1-py2.py3-none-any.whl size=317488491 sha256=0b0d945782e64c698e922df92d40e74c83b4a31cdd4ec5fc888352032ddb8acd\n",
            "  Stored in directory: /root/.cache/pip/wheels/80/1d/60/2c256ed38dddce2fdd93be545214a63e02fbd8d74fb0b7f3a6\n",
            "Successfully built pyspark\n",
            "Installing collected packages: pyspark\n",
            "Successfully installed pyspark-3.5.1\n"
          ]
        }
      ],
      "source": [
        "!pip install pyspark"
      ]
    },
    {
      "cell_type": "code",
      "source": [
        "import findspark\n",
        "from pyspark.sql.functions import to_date, col, split, char_length, lit, trim, concat, to_char\n",
        "# findspark.init()\n",
        "from pyspark.sql import SparkSession\n",
        "# Create a SparkSession\n",
        "spark = SparkSession.builder.getOrCreate()\n",
        "# spark = SparkSession.builder.appName(\"app_name\").getOrCreate()\n",
        "spark.conf.set(\"spark.sql.legacy.timeParserPolicy\", \"LEGACY\")\n",
        "df = spark.read.format('csv').option('header', True)\\\n",
        "          .option('inferSchema', True)\\\n",
        "          .option('sep', ',')\\\n",
        "          .load('/content/drive/MyDrive/DATA_ENGINEER/DATABRICKS/AAAA_________IAM___CODING_____Colab Notebooks/Learning/datasset/AFCON/Africa Cup of Nations Matches.csv')\n",
        "\n",
        "df.printSchema()\n",
        "df.show(10)\n"
      ],
      "metadata": {
        "id": "2YNmbGsDFon9",
        "colab": {
          "base_uri": "https://localhost:8080/"
        },
        "outputId": "e534f43b-a5e5-4b18-bba3-af5e10c8d8cd"
      },
      "execution_count": 4,
      "outputs": [
        {
          "output_type": "stream",
          "name": "stdout",
          "text": [
            "root\n",
            " |-- Year: integer (nullable = true)\n",
            " |-- Date : string (nullable = true)\n",
            " |-- Time : string (nullable = true)\n",
            " |-- HomeTeam: string (nullable = true)\n",
            " |-- AwayTeam: string (nullable = true)\n",
            " |-- HomeTeamGoals: double (nullable = true)\n",
            " |-- AwayTeamGoals: double (nullable = true)\n",
            " |-- Stage: string (nullable = true)\n",
            " |-- SpecialWinConditions: string (nullable = true)\n",
            " |-- Stadium: string (nullable = true)\n",
            " |-- City: string (nullable = true)\n",
            " |-- Attendance: double (nullable = true)\n",
            "\n",
            "+----+---------+-----+---------+-------------+-------------+-------------+-----------------+--------------------+--------------------+------------+----------+\n",
            "|Year|    Date |Time | HomeTeam|     AwayTeam|HomeTeamGoals|AwayTeamGoals|            Stage|SpecialWinConditions|             Stadium|        City|Attendance|\n",
            "+----+---------+-----+---------+-------------+-------------+-------------+-----------------+--------------------+--------------------+------------+----------+\n",
            "|1957|10-Feb-57| NULL|   Sudan |        Egypt|          1.0|          2.0|       Semifinals|                NULL|   Municipal Stadium|    Khartoum|   30000.0|\n",
            "|1957|10-Feb-57| NULL|Ethiopia | South Africa|         NULL|         NULL|       Semifinals|Ethiopia  wins du...|                NULL|        NULL|      NULL|\n",
            "|1957|16-Feb-57| NULL|   Egypt |     Ethiopia|          4.0|          0.0|            Final|                NULL|   Municipal Stadium|    Khartoum|   30000.0|\n",
            "|1959|22-May-59| NULL|    Egypt|     Ethiopia|          4.0|          0.0| Final Tournament|                NULL|Prince Farouk Sta...|       Cairo|   30000.0|\n",
            "|1959|25-May-59| NULL|   Sudan |     Ethiopia|          1.0|          0.0| Final Tournament|                NULL|Prince Farouk Sta...|       Cairo|   20000.0|\n",
            "|1959|29-May-59| NULL|    Egypt|        Sudan|          2.0|          1.0| Final Tournament|                NULL|Prince Farouk Sta...|       Cairo|   30000.0|\n",
            "|1962|14-Jan-62| NULL|Ethiopia |      Tunisia|          4.0|          2.0|       Semifinals|                NULL|Hailé Sélassié St...| Addis Ababa|   30000.0|\n",
            "|1962|18-Jan-62| NULL|    Egypt|       Uganda|          2.0|          1.0|       Semifinals|                NULL|Hailé Sélassié St...| Addis Ababa|   30000.0|\n",
            "|1962|20-Jan-62| NULL| Tunisia |       Uganda|          3.0|          0.0|Third place match|                NULL|Hailé Sélassié St...| Addis Ababa|      NULL|\n",
            "|1962|21-Jan-62| NULL|Ethiopia |        Egypt|          4.0|          2.0|            Final| win after extra ...|Hailé Sélassié St...| Addis Ababa|      NULL|\n",
            "+----+---------+-----+---------+-------------+-------------+-------------+-----------------+--------------------+--------------------+------------+----------+\n",
            "only showing top 10 rows\n",
            "\n"
          ]
        }
      ]
    },
    {
      "cell_type": "markdown",
      "source": [
        "## Remove space in columns and rows"
      ],
      "metadata": {
        "id": "Jt82FpsPY7uo"
      }
    },
    {
      "cell_type": "code",
      "source": [
        "df_result = df.withColumn('Year_2', trim(df.Year + 1)).show()"
      ],
      "metadata": {
        "colab": {
          "base_uri": "https://localhost:8080/"
        },
        "id": "D4YxYBnYddMu",
        "outputId": "6d72996a-f697-440c-c1be-5a465bb29d1d"
      },
      "execution_count": 11,
      "outputs": [
        {
          "output_type": "stream",
          "name": "stdout",
          "text": [
            "+----+---------+-----+---------+-------------+-------------+-------------+-----------------+--------------------+--------------------+------------+----------+------+\n",
            "|Year|    Date |Time | HomeTeam|     AwayTeam|HomeTeamGoals|AwayTeamGoals|            Stage|SpecialWinConditions|             Stadium|        City|Attendance|Year_2|\n",
            "+----+---------+-----+---------+-------------+-------------+-------------+-----------------+--------------------+--------------------+------------+----------+------+\n",
            "|1957|10-Feb-57| NULL|   Sudan |        Egypt|          1.0|          2.0|       Semifinals|                NULL|   Municipal Stadium|    Khartoum|   30000.0|  1958|\n",
            "|1957|10-Feb-57| NULL|Ethiopia | South Africa|         NULL|         NULL|       Semifinals|Ethiopia  wins du...|                NULL|        NULL|      NULL|  1958|\n",
            "|1957|16-Feb-57| NULL|   Egypt |     Ethiopia|          4.0|          0.0|            Final|                NULL|   Municipal Stadium|    Khartoum|   30000.0|  1958|\n",
            "|1959|22-May-59| NULL|    Egypt|     Ethiopia|          4.0|          0.0| Final Tournament|                NULL|Prince Farouk Sta...|       Cairo|   30000.0|  1960|\n",
            "|1959|25-May-59| NULL|   Sudan |     Ethiopia|          1.0|          0.0| Final Tournament|                NULL|Prince Farouk Sta...|       Cairo|   20000.0|  1960|\n",
            "|1959|29-May-59| NULL|    Egypt|        Sudan|          2.0|          1.0| Final Tournament|                NULL|Prince Farouk Sta...|       Cairo|   30000.0|  1960|\n",
            "|1962|14-Jan-62| NULL|Ethiopia |      Tunisia|          4.0|          2.0|       Semifinals|                NULL|Hailé Sélassié St...| Addis Ababa|   30000.0|  1963|\n",
            "|1962|18-Jan-62| NULL|    Egypt|       Uganda|          2.0|          1.0|       Semifinals|                NULL|Hailé Sélassié St...| Addis Ababa|   30000.0|  1963|\n",
            "|1962|20-Jan-62| NULL| Tunisia |       Uganda|          3.0|          0.0|Third place match|                NULL|Hailé Sélassié St...| Addis Ababa|      NULL|  1963|\n",
            "|1962|21-Jan-62| NULL|Ethiopia |        Egypt|          4.0|          2.0|            Final| win after extra ...|Hailé Sélassié St...| Addis Ababa|      NULL|  1963|\n",
            "|1963|24-Nov-63| NULL|   Ghana |      Tunisia|          1.0|          1.0|          Group A|                NULL|Accra Sports Stadium|       Accra|      NULL|  1964|\n",
            "|1963|26-Nov-63| NULL|   Ghana |     Ethiopia|          2.0|          0.0|          Group A|                NULL|Accra Sports Stadium|       Accra|      NULL|  1964|\n",
            "|1963|28-Nov-63| NULL|Ethiopia |      Tunisia|          4.0|          2.0|          Group A|                NULL|Accra Sports Stadium|       Accra|      NULL|  1964|\n",
            "|1963|24-Nov-63| NULL|    Egypt|      Nigeria|          6.0|          3.0|          Group B|                NULL|Kumasi Sports Sta...|      Kumasi|      NULL|  1964|\n",
            "|1963|26-Nov-63| NULL|    Egypt|        Sudan|          2.0|          2.0|          Group B|                NULL|Kumasi Sports Sta...|      Kumasi|      NULL|  1964|\n",
            "|1963|28-Nov-63| NULL|   Sudan |      Nigeria|          4.0|          0.0|          Group B|                NULL|Kumasi Sports Sta...|      Kumasi|      NULL|  1964|\n",
            "|1963|30-Nov-63| NULL|    Egypt|     Ethiopia|          3.0|          0.0|Third place match|                NULL|Accra Sports Stadium|       Accra|      NULL|  1964|\n",
            "|1963| 1-Dec-63| NULL|   Ghana |        Sudan|          3.0|          0.0|            Final|                NULL|Accra Sports Stadium|       Accra|      NULL|  1964|\n",
            "|1965|12-Nov-65| NULL| Tunisia |     Ethiopia|          4.0|          0.0|          Group A|                NULL|Stade Chedli Zouiten|       Tunis|   16000.0|  1966|\n",
            "|1965|14-Nov-65| NULL| Senegal |      Tunisia|          0.0|          0.0|          Group A|                NULL|Stade Chedli Zouiten|       Tunis|      NULL|  1966|\n",
            "+----+---------+-----+---------+-------------+-------------+-------------+-----------------+--------------------+--------------------+------------+----------+------+\n",
            "only showing top 20 rows\n",
            "\n"
          ]
        }
      ]
    },
    {
      "cell_type": "code",
      "source": [
        "# Create a list of tuples where the first element is the old column name and the second element is the new column name\n",
        "rename_columns = [(c, c.strip()) for c in df.columns]\n",
        "\n",
        "# Use the withColumnRenamed method with a dictionary to rename multiple columns\n",
        "\n",
        "for current_name, new_name in rename_columns:\n",
        "    df = df.withColumnRenamed(current_name, new_name)\n",
        "    df = df.withColumn(new_name, trim(df[new_name]))\n",
        "\n",
        "\n",
        "# Print the schema of the renamed DataFrame\n",
        "df.printSchema()\n",
        "df.show(10)"
      ],
      "metadata": {
        "id": "fnBSNxaMfzNK",
        "colab": {
          "base_uri": "https://localhost:8080/"
        },
        "outputId": "92ba81ee-e44b-4d9d-c868-85d728cc2d1a"
      },
      "execution_count": null,
      "outputs": [
        {
          "output_type": "stream",
          "name": "stdout",
          "text": [
            "root\n",
            " |-- Year: string (nullable = true)\n",
            " |-- Date: string (nullable = true)\n",
            " |-- Time: string (nullable = true)\n",
            " |-- HomeTeam: string (nullable = true)\n",
            " |-- AwayTeam: string (nullable = true)\n",
            " |-- HomeTeamGoals: string (nullable = true)\n",
            " |-- AwayTeamGoals: string (nullable = true)\n",
            " |-- Stage: string (nullable = true)\n",
            " |-- SpecialWinConditions: string (nullable = true)\n",
            " |-- Stadium: string (nullable = true)\n",
            " |-- City: string (nullable = true)\n",
            " |-- Attendance: string (nullable = true)\n",
            "\n",
            "+----+---------+----+--------+------------+-------------+-------------+-----------------+--------------------+--------------------+-----------+----------+\n",
            "|Year|     Date|Time|HomeTeam|    AwayTeam|HomeTeamGoals|AwayTeamGoals|            Stage|SpecialWinConditions|             Stadium|       City|Attendance|\n",
            "+----+---------+----+--------+------------+-------------+-------------+-----------------+--------------------+--------------------+-----------+----------+\n",
            "|1957|10-Feb-57|NULL|   Sudan|       Egypt|          1.0|          2.0|       Semifinals|                NULL|   Municipal Stadium|   Khartoum|   30000.0|\n",
            "|1957|10-Feb-57|NULL|Ethiopia|South Africa|         NULL|         NULL|       Semifinals|Ethiopia  wins du...|                NULL|       NULL|      NULL|\n",
            "|1957|16-Feb-57|NULL|   Egypt|    Ethiopia|          4.0|          0.0|            Final|                NULL|   Municipal Stadium|   Khartoum|   30000.0|\n",
            "|1959|22-May-59|NULL|   Egypt|    Ethiopia|          4.0|          0.0| Final Tournament|                NULL|Prince Farouk Sta...|      Cairo|   30000.0|\n",
            "|1959|25-May-59|NULL|   Sudan|    Ethiopia|          1.0|          0.0| Final Tournament|                NULL|Prince Farouk Sta...|      Cairo|   20000.0|\n",
            "|1959|29-May-59|NULL|   Egypt|       Sudan|          2.0|          1.0| Final Tournament|                NULL|Prince Farouk Sta...|      Cairo|   30000.0|\n",
            "|1962|14-Jan-62|NULL|Ethiopia|     Tunisia|          4.0|          2.0|       Semifinals|                NULL|Hailé Sélassié St...|Addis Ababa|   30000.0|\n",
            "|1962|18-Jan-62|NULL|   Egypt|      Uganda|          2.0|          1.0|       Semifinals|                NULL|Hailé Sélassié St...|Addis Ababa|   30000.0|\n",
            "|1962|20-Jan-62|NULL| Tunisia|      Uganda|          3.0|          0.0|Third place match|                NULL|Hailé Sélassié St...|Addis Ababa|      NULL|\n",
            "|1962|21-Jan-62|NULL|Ethiopia|       Egypt|          4.0|          2.0|            Final|win after extra time|Hailé Sélassié St...|Addis Ababa|      NULL|\n",
            "+----+---------+----+--------+------------+-------------+-------------+-----------------+--------------------+--------------------+-----------+----------+\n",
            "only showing top 10 rows\n",
            "\n"
          ]
        }
      ]
    },
    {
      "cell_type": "markdown",
      "source": [
        "# Add column ===> withColumn()  or withColumns()\n",
        "## lit() : constant literal\n"
      ],
      "metadata": {
        "id": "VsxcmDOB4MOL"
      }
    },
    {
      "cell_type": "code",
      "source": [
        "# add new column by calculation\n",
        "df_add_column = df.withColumn('DateCast_to_YYYY-MM-DD', lit(to_date(df['Date'], 'dd-MMM-yy')))\n",
        "\n",
        "# add multiple columns\n",
        "df_add_column = df_add_column.withColumns({'homeTeam # AwayTeam': concat(df_add_column['homeTeam'],  lit(' ') , df_add_column['AwayTeam']), 'ColumnAdded': lit(999999999999999999)})\n",
        "# + lit(' ') + df_add_column['AwayTeam']\n",
        "# df_add_column.printSchema()\n",
        "df_add_column.show(2)"
      ],
      "metadata": {
        "id": "APP9hQiJTRRy",
        "colab": {
          "base_uri": "https://localhost:8080/"
        },
        "outputId": "a3e52140-306c-47a7-86fe-9bd4eb6ee18e"
      },
      "execution_count": null,
      "outputs": [
        {
          "output_type": "stream",
          "name": "stdout",
          "text": [
            "+----+---------+----+--------+------------+-------------+-------------+----------+--------------------+-----------------+--------+----------+----------------------+--------------------+------------------+\n",
            "|Year|     Date|Time|HomeTeam|    AwayTeam|HomeTeamGoals|AwayTeamGoals|     Stage|SpecialWinConditions|          Stadium|    City|Attendance|DateCast_to_YYYY-MM-DD| homeTeam # AwayTeam|       ColumnAdded|\n",
            "+----+---------+----+--------+------------+-------------+-------------+----------+--------------------+-----------------+--------+----------+----------------------+--------------------+------------------+\n",
            "|1957|10-Feb-57|NULL|   Sudan|       Egypt|          1.0|          2.0|Semifinals|                NULL|Municipal Stadium|Khartoum|   30000.0|            1957-02-10|         Sudan Egypt|999999999999999999|\n",
            "|1957|10-Feb-57|NULL|Ethiopia|South Africa|         NULL|         NULL|Semifinals|Ethiopia  wins du...|             NULL|    NULL|      NULL|            1957-02-10|Ethiopia South Af...|999999999999999999|\n",
            "+----+---------+----+--------+------------+-------------+-------------+----------+--------------------+-----------------+--------+----------+----------------------+--------------------+------------------+\n",
            "only showing top 2 rows\n",
            "\n"
          ]
        }
      ]
    },
    {
      "cell_type": "markdown",
      "source": [
        "# Rename column ===> withColumnRenamed() or withColumnsRenamed"
      ],
      "metadata": {
        "id": "ePdEAVGy5Ciq"
      }
    },
    {
      "cell_type": "code",
      "source": [
        "df_rename_column = df_add_column.withColumnsRenamed({'DateCast_to_YYYY-MM-DD': 'DateCast', 'Attendance': '_renamed__Attendance'})\n",
        "display(df_rename_column)"
      ],
      "metadata": {
        "colab": {
          "base_uri": "https://localhost:8080/",
          "height": 54
        },
        "id": "HDEJEtPE4u5q",
        "outputId": "57583f69-e95c-4294-d9ff-5054693bb2db"
      },
      "execution_count": null,
      "outputs": [
        {
          "output_type": "display_data",
          "data": {
            "text/plain": [
              "DataFrame[Year: string, Date: string, Time: string, HomeTeam: string, AwayTeam: string, HomeTeamGoals: string, AwayTeamGoals: string, Stage: string, SpecialWinConditions: string, Stadium: string, City: string, _renamed__Attendance: string, DateCast: date, homeTeam # AwayTeam: string]"
            ]
          },
          "metadata": {}
        }
      ]
    },
    {
      "cell_type": "markdown",
      "source": [
        "# Remove column ===> drop()"
      ],
      "metadata": {
        "id": "y9_0Qp08JUQT"
      }
    },
    {
      "cell_type": "code",
      "source": [
        "df_remove_col = df_rename_column.drop('_renamed__Attendance')\n",
        "df_remove_col.printSchema()"
      ],
      "metadata": {
        "colab": {
          "base_uri": "https://localhost:8080/"
        },
        "id": "uUojMFBEFqyg",
        "outputId": "3b5a648f-2b44-4436-e6b8-45df5666a8c1"
      },
      "execution_count": null,
      "outputs": [
        {
          "output_type": "stream",
          "name": "stdout",
          "text": [
            "root\n",
            " |-- Year: string (nullable = true)\n",
            " |-- Date: string (nullable = true)\n",
            " |-- Time: string (nullable = true)\n",
            " |-- HomeTeam: string (nullable = true)\n",
            " |-- AwayTeam: string (nullable = true)\n",
            " |-- HomeTeamGoals: string (nullable = true)\n",
            " |-- AwayTeamGoals: string (nullable = true)\n",
            " |-- Stage: string (nullable = true)\n",
            " |-- SpecialWinConditions: string (nullable = true)\n",
            " |-- Stadium: string (nullable = true)\n",
            " |-- City: string (nullable = true)\n",
            " |-- DateCast: date (nullable = true)\n",
            " |-- homeTeam # AwayTeam: string (nullable = true)\n",
            "\n"
          ]
        }
      ]
    },
    {
      "cell_type": "code",
      "source": [],
      "metadata": {
        "id": "G18fjokIJxxJ"
      },
      "execution_count": null,
      "outputs": []
    }
  ]
}