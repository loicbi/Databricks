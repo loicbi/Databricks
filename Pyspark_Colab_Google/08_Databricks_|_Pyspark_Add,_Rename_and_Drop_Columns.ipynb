{
 "cells": [
  {
   "cell_type": "markdown",
   "metadata": {
    "application/vnd.databricks.v1+cell": {
     "cellMetadata": {},
     "inputWidgets": {},
     "nuid": "ee6ff335-2696-4965-aae3-618a6181b9e1",
     "showTitle": false,
     "title": ""
    },
    "colab_type": "text",
    "id": "view-in-github"
   },
   "source": [
    "<a href=\"https://colab.research.google.com/github/loicbi/Databricks/blob/develop/08_Databricks_%7C_Pyspark_Add%2C_Rename_and_Drop_Columns.ipynb\" target=\"_parent\"><img src=\"https://colab.research.google.com/assets/colab-badge.svg\" alt=\"Open In Colab\"/></a>"
   ]
  },
  {
   "cell_type": "code",
   "execution_count": 0,
   "metadata": {
    "application/vnd.databricks.v1+cell": {
     "cellMetadata": {},
     "inputWidgets": {},
     "nuid": "0412acd0-b83a-4f06-9ec9-99414728bacb",
     "showTitle": false,
     "title": ""
    },
    "colab": {
     "base_uri": "https://localhost:8080/"
    },
    "id": "5poKsdENgL1a",
    "outputId": "b8701902-32f5-4b08-9587-6d7af11d6eee"
   },
   "outputs": [],
   "source": [
    "from google.colab import drive\n",
    "drive.mount('/content/drive')"
   ]
  },
  {
   "cell_type": "code",
   "execution_count": 0,
   "metadata": {
    "application/vnd.databricks.v1+cell": {
     "cellMetadata": {},
     "inputWidgets": {},
     "nuid": "ea85312a-a1c8-41d8-814a-5065fbec15d2",
     "showTitle": false,
     "title": ""
    },
    "colab": {
     "base_uri": "https://localhost:8080/"
    },
    "id": "PAHeaUwSIS1Y",
    "outputId": "2e7b0a89-3ad2-45d9-8908-3c5b5c36460f"
   },
   "outputs": [],
   "source": [
    "!pip install findspark"
   ]
  },
  {
   "cell_type": "code",
   "execution_count": 0,
   "metadata": {
    "application/vnd.databricks.v1+cell": {
     "cellMetadata": {},
     "inputWidgets": {},
     "nuid": "0503a50d-72a5-49db-8d82-96005d5146b1",
     "showTitle": false,
     "title": ""
    },
    "colab": {
     "base_uri": "https://localhost:8080/"
    },
    "id": "q3N_gZyPFhMw",
    "outputId": "f103a906-6bb1-457c-af72-ca4bf16aea3f"
   },
   "outputs": [],
   "source": [
    "!pip install pyspark"
   ]
  },
  {
   "cell_type": "code",
   "execution_count": 0,
   "metadata": {
    "application/vnd.databricks.v1+cell": {
     "cellMetadata": {},
     "inputWidgets": {},
     "nuid": "3fd408e7-1889-4bad-9cef-002b875b89ab",
     "showTitle": false,
     "title": ""
    },
    "colab": {
     "base_uri": "https://localhost:8080/"
    },
    "id": "2YNmbGsDFon9",
    "outputId": "e534f43b-a5e5-4b18-bba3-af5e10c8d8cd"
   },
   "outputs": [],
   "source": [
    "import findspark\n",
    "from pyspark.sql.functions import to_date, col, split, char_length, lit, trim, concat, to_char\n",
    "# findspark.init()\n",
    "from pyspark.sql import SparkSession\n",
    "# Create a SparkSession\n",
    "spark = SparkSession.builder.getOrCreate()\n",
    "# spark = SparkSession.builder.appName(\"app_name\").getOrCreate()\n",
    "spark.conf.set(\"spark.sql.legacy.timeParserPolicy\", \"LEGACY\")\n",
    "df = spark.read.format('csv').option('header', True)\\\n",
    "          .option('inferSchema', True)\\\n",
    "          .option('sep', ',')\\\n",
    "          .load('/content/drive/MyDrive/DATA_ENGINEER/DATABRICKS/AAAA_________IAM___CODING_____Colab Notebooks/Learning/datasset/AFCON/Africa Cup of Nations Matches.csv')\n",
    "\n",
    "df.printSchema()\n",
    "df.show(10)\n"
   ]
  },
  {
   "cell_type": "markdown",
   "metadata": {
    "application/vnd.databricks.v1+cell": {
     "cellMetadata": {},
     "inputWidgets": {},
     "nuid": "317c54be-8bf4-42fa-ba37-c6bb738c091b",
     "showTitle": false,
     "title": ""
    },
    "id": "Jt82FpsPY7uo"
   },
   "source": [
    "## Remove space in columns and rows"
   ]
  },
  {
   "cell_type": "code",
   "execution_count": 0,
   "metadata": {
    "application/vnd.databricks.v1+cell": {
     "cellMetadata": {},
     "inputWidgets": {},
     "nuid": "2888998b-09ab-4fee-9366-b89148cb615e",
     "showTitle": false,
     "title": ""
    },
    "colab": {
     "base_uri": "https://localhost:8080/"
    },
    "id": "D4YxYBnYddMu",
    "outputId": "6d72996a-f697-440c-c1be-5a465bb29d1d"
   },
   "outputs": [],
   "source": [
    "df_result = df.withColumn('Year_2', trim(df.Year + 1)).show()"
   ]
  },
  {
   "cell_type": "code",
   "execution_count": 0,
   "metadata": {
    "application/vnd.databricks.v1+cell": {
     "cellMetadata": {},
     "inputWidgets": {},
     "nuid": "b7138adb-87fc-4750-866e-61c82cb34068",
     "showTitle": false,
     "title": ""
    },
    "colab": {
     "base_uri": "https://localhost:8080/"
    },
    "id": "fnBSNxaMfzNK",
    "outputId": "92ba81ee-e44b-4d9d-c868-85d728cc2d1a"
   },
   "outputs": [],
   "source": [
    "# Create a list of tuples where the first element is the old column name and the second element is the new column name\n",
    "rename_columns = [(c, c.strip()) for c in df.columns]\n",
    "\n",
    "# Use the withColumnRenamed method with a dictionary to rename multiple columns\n",
    "\n",
    "for current_name, new_name in rename_columns:\n",
    "    df = df.withColumnRenamed(current_name, new_name)\n",
    "    df = df.withColumn(new_name, trim(df[new_name]))\n",
    "\n",
    "\n",
    "# Print the schema of the renamed DataFrame\n",
    "df.printSchema()\n",
    "df.show(10)"
   ]
  },
  {
   "cell_type": "markdown",
   "metadata": {
    "application/vnd.databricks.v1+cell": {
     "cellMetadata": {},
     "inputWidgets": {},
     "nuid": "34a54db1-a02b-4dc4-b94f-2ea07364eadd",
     "showTitle": false,
     "title": ""
    },
    "id": "VsxcmDOB4MOL"
   },
   "source": [
    "# Add column ===> withColumn()  or withColumns()\n",
    "## lit() : constant literal\n"
   ]
  },
  {
   "cell_type": "code",
   "execution_count": 0,
   "metadata": {
    "application/vnd.databricks.v1+cell": {
     "cellMetadata": {},
     "inputWidgets": {},
     "nuid": "5f830309-4823-4b79-bdc6-66fb0102e303",
     "showTitle": false,
     "title": ""
    },
    "colab": {
     "base_uri": "https://localhost:8080/"
    },
    "id": "APP9hQiJTRRy",
    "outputId": "a3e52140-306c-47a7-86fe-9bd4eb6ee18e"
   },
   "outputs": [],
   "source": [
    "# add new column by calculation\n",
    "df_add_column = df.withColumn('DateCast_to_YYYY-MM-DD', lit(to_date(df['Date'], 'dd-MMM-yy')))\n",
    "\n",
    "# add multiple columns\n",
    "df_add_column = df_add_column.withColumns({'homeTeam # AwayTeam': concat(df_add_column['homeTeam'],  lit(' ') , df_add_column['AwayTeam']), 'ColumnAdded': lit(999999999999999999)})\n",
    "# + lit(' ') + df_add_column['AwayTeam']\n",
    "# df_add_column.printSchema()\n",
    "df_add_column.show(2)"
   ]
  },
  {
   "cell_type": "markdown",
   "metadata": {
    "application/vnd.databricks.v1+cell": {
     "cellMetadata": {},
     "inputWidgets": {},
     "nuid": "686fcdef-25eb-4acd-a39a-33284ee2adb4",
     "showTitle": false,
     "title": ""
    },
    "id": "ePdEAVGy5Ciq"
   },
   "source": [
    "# Rename column ===> withColumnRenamed() or withColumnsRenamed"
   ]
  },
  {
   "cell_type": "code",
   "execution_count": 0,
   "metadata": {
    "application/vnd.databricks.v1+cell": {
     "cellMetadata": {},
     "inputWidgets": {},
     "nuid": "7b362f07-8a15-4113-8118-5a5a0c9aa702",
     "showTitle": false,
     "title": ""
    },
    "colab": {
     "base_uri": "https://localhost:8080/",
     "height": 54
    },
    "id": "HDEJEtPE4u5q",
    "outputId": "57583f69-e95c-4294-d9ff-5054693bb2db"
   },
   "outputs": [],
   "source": [
    "df_rename_column = df_add_column.withColumnsRenamed({'DateCast_to_YYYY-MM-DD': 'DateCast', 'Attendance': '_renamed__Attendance'})\n",
    "display(df_rename_column)"
   ]
  },
  {
   "cell_type": "markdown",
   "metadata": {
    "application/vnd.databricks.v1+cell": {
     "cellMetadata": {},
     "inputWidgets": {},
     "nuid": "ed5fd92d-559f-46aa-a375-1459d15cc6e3",
     "showTitle": false,
     "title": ""
    },
    "id": "y9_0Qp08JUQT"
   },
   "source": [
    "# Remove column ===> drop()"
   ]
  },
  {
   "cell_type": "code",
   "execution_count": 0,
   "metadata": {
    "application/vnd.databricks.v1+cell": {
     "cellMetadata": {},
     "inputWidgets": {},
     "nuid": "84ad6ce7-9e3f-4e1b-b191-8395d6254063",
     "showTitle": false,
     "title": ""
    },
    "colab": {
     "base_uri": "https://localhost:8080/"
    },
    "id": "uUojMFBEFqyg",
    "outputId": "3b5a648f-2b44-4436-e6b8-45df5666a8c1"
   },
   "outputs": [],
   "source": [
    "df_remove_col = df_rename_column.drop('_renamed__Attendance')\n",
    "df_remove_col.printSchema()"
   ]
  },
  {
   "cell_type": "code",
   "execution_count": 0,
   "metadata": {
    "application/vnd.databricks.v1+cell": {
     "cellMetadata": {},
     "inputWidgets": {},
     "nuid": "4ceb136e-97f1-45ff-bde4-76b48e604bce",
     "showTitle": false,
     "title": ""
    },
    "id": "G18fjokIJxxJ"
   },
   "outputs": [],
   "source": []
  }
 ],
 "metadata": {
  "application/vnd.databricks.v1+notebook": {
   "dashboards": [],
   "environmentMetadata": null,
   "language": "python",
   "notebookMetadata": {},
   "notebookName": "08_Databricks_|_Pyspark_Add,_Rename_and_Drop_Columns",
   "widgets": {}
  },
  "colab": {
   "authorship_tag": "ABX9TyOkfEkBFS60apIltvlbp+ki",
   "include_colab_link": true,
   "mount_file_id": "1rOlnpxy_p3aDFuHKpjRlBI7h9M-NwkqV",
   "provenance": []
  },
  "kernelspec": {
   "display_name": "Python 3",
   "name": "python3"
  },
  "language_info": {
   "name": "python"
  }
 },
 "nbformat": 4,
 "nbformat_minor": 0
}
