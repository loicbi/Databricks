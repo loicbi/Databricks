{
 "cells": [
  {
   "cell_type": "code",
   "execution_count": 0,
   "metadata": {
    "application/vnd.databricks.v1+cell": {
     "cellMetadata": {},
     "inputWidgets": {},
     "nuid": "d6797308-03b1-40b3-be5c-36ce98e17e8c",
     "showTitle": false,
     "title": ""
    },
    "id": "5poKsdENgL1a"
   },
   "outputs": [],
   "source": [
    "from google.colab import drive\n",
    "drive.mount('/content/drive')"
   ]
  },
  {
   "cell_type": "code",
   "execution_count": 0,
   "metadata": {
    "application/vnd.databricks.v1+cell": {
     "cellMetadata": {},
     "inputWidgets": {},
     "nuid": "907bb356-7fad-4cf0-a3b7-a11d9b9eece0",
     "showTitle": false,
     "title": ""
    },
    "id": "PAHeaUwSIS1Y"
   },
   "outputs": [],
   "source": [
    "!pip install findspark"
   ]
  },
  {
   "cell_type": "code",
   "execution_count": 0,
   "metadata": {
    "application/vnd.databricks.v1+cell": {
     "cellMetadata": {},
     "inputWidgets": {},
     "nuid": "36001f33-7d9a-4c18-ab07-75e80e8ded5a",
     "showTitle": false,
     "title": ""
    },
    "id": "q3N_gZyPFhMw"
   },
   "outputs": [],
   "source": [
    "!pip install pyspark"
   ]
  },
  {
   "cell_type": "code",
   "execution_count": 0,
   "metadata": {
    "application/vnd.databricks.v1+cell": {
     "cellMetadata": {},
     "inputWidgets": {},
     "nuid": "210d1954-f54d-4427-ac70-75cd4db33bce",
     "showTitle": false,
     "title": ""
    },
    "colab": {
     "base_uri": "https://localhost:8080/"
    },
    "id": "2YNmbGsDFon9",
    "outputId": "7713aa7c-b258-4304-81dc-c05d02a86bde"
   },
   "outputs": [],
   "source": [
    "import findspark\n",
    "from pyspark.sql.functions import *\n",
    "# findspark.init()\n",
    "from pyspark.sql import SparkSession\n",
    "# Create a SparkSession\n",
    "spark = SparkSession.builder.getOrCreate()\n",
    "# spark = SparkSession.builder.appName(\"app_name\").getOrCreate()\n",
    "spark.conf.set(\"spark.sql.legacy.timeParserPolicy\", \"LEGACY\")\n",
    "df = spark.read.format('csv').option('header', True)\\\n",
    "          .option('inferSchema', True)\\\n",
    "          .option('sep', ',')\\\n",
    "          .load('/content/drive/MyDrive/DATA_ENGINEER/DATABRICKS/AAAA_________IAM___CODING_____Colab Notebooks/Learning/datasset/AFCON/Africa Cup of Nations Players.csv')\n",
    "\n",
    "df.printSchema()\n",
    "df.show(10)\n"
   ]
  },
  {
   "cell_type": "markdown",
   "metadata": {
    "application/vnd.databricks.v1+cell": {
     "cellMetadata": {},
     "inputWidgets": {},
     "nuid": "96461c52-9589-4680-a1a7-c866de58a337",
     "showTitle": false,
     "title": ""
    },
    "id": "Jt82FpsPY7uo"
   },
   "source": [
    "## Remove space in columns and rows"
   ]
  },
  {
   "cell_type": "code",
   "execution_count": 0,
   "metadata": {
    "application/vnd.databricks.v1+cell": {
     "cellMetadata": {},
     "inputWidgets": {},
     "nuid": "b07e45c7-b876-47b4-bb75-398d5dcf57f6",
     "showTitle": false,
     "title": ""
    },
    "id": "fnBSNxaMfzNK"
   },
   "outputs": [],
   "source": [
    "# Create a list of tuples where the first element is the old column name and the second element is the new column name\n",
    "rename_columns = [(c, c.strip()) for c in df.columns]\n",
    "\n",
    "# Use the withColumnRenamed method with a dictionary to rename multiple columns\n",
    "\n",
    "for current_name, new_name in rename_columns:\n",
    "    df = df.withColumnRenamed(current_name, new_name)\n",
    "    df = df.withColumn(new_name, trim(df[new_name]))\n",
    "\n",
    "\n",
    "# Print the schema of the renamed DataFrame\n",
    "df.printSchema()\n",
    "df.show(10)"
   ]
  },
  {
   "cell_type": "markdown",
   "metadata": {
    "application/vnd.databricks.v1+cell": {
     "cellMetadata": {},
     "inputWidgets": {},
     "nuid": "f1abea5a-7317-4283-a5d5-0cd0a1bbb738",
     "showTitle": false,
     "title": ""
    },
    "id": "Y6Gg4IV39GBH"
   },
   "source": [
    "## Create df with array column"
   ]
  },
  {
   "cell_type": "code",
   "execution_count": 0,
   "metadata": {
    "application/vnd.databricks.v1+cell": {
     "cellMetadata": {},
     "inputWidgets": {},
     "nuid": "8aa85f2f-20f2-42ee-87e9-fc1fd3992cfb",
     "showTitle": false,
     "title": ""
    },
    "colab": {
     "base_uri": "https://localhost:8080/"
    },
    "id": "9RH0Ybla9MdQ",
    "outputId": "05ffa8b9-8478-4e6f-801b-69638ea3c51b"
   },
   "outputs": [],
   "source": [
    "array_appliance = [\n",
    "    ('Loic', ['TV', 'Refigerator', 'Oven', 'AC']),\n",
    "    ('Andre', ['Refigerator', 'Washing Machine']),\n",
    "    ('Assogba', ['TV', 'Refigerator', 'Computer']),\n",
    "    ('XXXXXX', None),\n",
    "]\n",
    "\n",
    "df_app = spark.createDataFrame(data=array_appliance, schema=['name', 'Appliances'])\n",
    "\n",
    "df_app.printSchema()\n",
    "\n",
    "df_app.show()"
   ]
  },
  {
   "cell_type": "markdown",
   "metadata": {
    "application/vnd.databricks.v1+cell": {
     "cellMetadata": {},
     "inputWidgets": {},
     "nuid": "182aaed5-33c8-40e1-87b5-64098924d06c",
     "showTitle": false,
     "title": ""
    },
    "id": "PaH5atg49tfq"
   },
   "source": [
    "## Create df with array map"
   ]
  },
  {
   "cell_type": "code",
   "execution_count": 0,
   "metadata": {
    "application/vnd.databricks.v1+cell": {
     "cellMetadata": {},
     "inputWidgets": {},
     "nuid": "99a0d8ad-21b0-4095-b428-6b5240ecb040",
     "showTitle": false,
     "title": ""
    },
    "colab": {
     "base_uri": "https://localhost:8080/"
    },
    "id": "tXMKSXdVzBex",
    "outputId": "dda41e36-8737-4734-b3fd-83683db1f158"
   },
   "outputs": [],
   "source": [
    "import json\n",
    "data_json = [\n",
    "    {\n",
    "        \"Order ID\": \"GJVSZXTB5M1685168956\",\n",
    "        \"Customer Name\": \"Bertrand Le Renault\",\n",
    "        \"Mobile Model\": \"Apple/iPhone 11 Pro Max/Silver/4GB/512 GB\",\n",
    "        \"Quantity\": 2,\n",
    "        \"Price per Unit\": \"1527\",\n",
    "        \"Total Price\": 3054,\n",
    "        \"Promotion Code\": None,\n",
    "        \"Order Amount\": 3054,\n",
    "        \"Tax\": 610.8000000000001,\n",
    "        \"Order Date\": \"2020-01-02\",\n",
    "        \"Payment Status\": \"Paid\",\n",
    "        \"Shipping Status\": \"Returned\",\n",
    "        \"Payment Method\": \"Debit Card\",\n",
    "        \"Payment Provider\": \"Master\",\n",
    "        \"Phone\": \"03 25 40 48 49\",\n",
    "        \"Delivery Address\": \"avenue Laetitia Bouvet\\n86226 Blanchet\"\n",
    "    },\n",
    "    {\n",
    "        \"Order ID\": \"Z141RRR17K1685168956\",\n",
    "        \"Customer Name\": \"St\\u00e9phane-Ren\\u00e9 Roy\",\n",
    "        \"Mobile Model\": \"Motorola/G6 Play/Fine Gold/3 GB/32 GB\",\n",
    "        \"Quantity\": 1,\n",
    "        \"Price per Unit\": \"132\",\n",
    "        \"Total Price\": 132,\n",
    "        \"Promotion Code\": { \"fafafafafafa\":\n",
    "            {'TV': 'LG', 'Refigerator': 'Samsung', 'Oven': 'Philipps', 'AC': {'TV': 'LG', 'Refigerator': 'Samsung', 'Oven': 'Philipps', 'AC': 'Voltas'}}\n",
    "        },\n",
    "        \"Order Amount\": 112.2,\n",
    "        \"Tax\": 22.44,\n",
    "        \"Order Date\": \"2020-01-02\",\n",
    "        \"Payment Status\": \"Pending\",\n",
    "        \"Shipping Status\": \"Delivered\",\n",
    "        \"Payment Method\": \"Credit Card\",\n",
    "        \"Payment Provider\": \"American Express\",\n",
    "        \"Phone\": \"04 87 43 61 98\",\n",
    "        \"Delivery Address\": \"73, rue Marc Voisin\\n50361 LebonVille\"\n",
    "    },]\n",
    "map_brand = [\n",
    "    ('EEEE', None),\n",
    "    ('Loic', {'TV': 'LG', 'Refigerator': 'Samsung', 'Oven': 'Philipps', 'AC': 'Voltas'}),\n",
    "    ('Andre', {'Refigerator': 'Ikea', 'Washing Machine': 'Philipps',}),\n",
    "    ('Assogba', {'TV': 'Samsung', 'Refigerator': 'Sony', 'Computer': 'HP'}),\n",
    "    ('David', data_json[0]),\n",
    "    ('USERRR', data_json[1]),\n",
    "]\n",
    "\n",
    "df_brand = spark.createDataFrame(data=map_brand, schema=['name', 'Brand'])\n",
    "\n",
    "df_brand.printSchema()\n",
    "\n",
    "df_brand.show()\n",
    "\n",
    "\n"
   ]
  },
  {
   "cell_type": "markdown",
   "metadata": {
    "application/vnd.databricks.v1+cell": {
     "cellMetadata": {},
     "inputWidgets": {},
     "nuid": "f9382b69-0d57-4cb9-8f6b-6dd5c4a3f8b5",
     "showTitle": false,
     "title": ""
    },
    "id": "QMVXDmeT__EG"
   },
   "source": [
    "*Explode provides us to don't show null value in column*\n",
    "\n",
    "*Explode outer provides us to show null value in column*"
   ]
  },
  {
   "cell_type": "markdown",
   "metadata": {
    "application/vnd.databricks.v1+cell": {
     "cellMetadata": {},
     "inputWidgets": {},
     "nuid": "43b83691-eed3-4e80-8d86-6674960e8010",
     "showTitle": false,
     "title": ""
    },
    "id": "gH0XDnwq-Mr4"
   },
   "source": [
    "## Explode Array"
   ]
  },
  {
   "cell_type": "code",
   "execution_count": 0,
   "metadata": {
    "application/vnd.databricks.v1+cell": {
     "cellMetadata": {},
     "inputWidgets": {},
     "nuid": "4789d852-944d-4632-9534-0b6c46f9506a",
     "showTitle": false,
     "title": ""
    },
    "colab": {
     "base_uri": "https://localhost:8080/"
    },
    "id": "jAvlkT8B_tJ-",
    "outputId": "c3731352-454a-4229-f01a-d525d7d45a83"
   },
   "outputs": [],
   "source": [
    "df_app.select('*', explode(df_app.Appliances)).show()\n",
    "df_app.select(df_app.name, explode(df_app.Appliances)).show()"
   ]
  },
  {
   "cell_type": "markdown",
   "metadata": {
    "application/vnd.databricks.v1+cell": {
     "cellMetadata": {},
     "inputWidgets": {},
     "nuid": "eb30dbd8-19dc-4475-b4f2-bca939d92b47",
     "showTitle": false,
     "title": ""
    },
    "id": "A7ERWzL_8nMf"
   },
   "source": [
    "## Explode Map"
   ]
  },
  {
   "cell_type": "code",
   "execution_count": 0,
   "metadata": {
    "application/vnd.databricks.v1+cell": {
     "cellMetadata": {},
     "inputWidgets": {},
     "nuid": "ec38435b-cdfd-45b6-9a99-27aa08bf8eb8",
     "showTitle": false,
     "title": ""
    },
    "colab": {
     "base_uri": "https://localhost:8080/"
    },
    "id": "w0hpeofb0oV6",
    "outputId": "b167aa4d-d2c5-4235-dedd-807808c6c898"
   },
   "outputs": [],
   "source": [
    "dfexplode_map = df_brand.select(df_brand.name, explode(df_brand.Brand)).show(200)"
   ]
  },
  {
   "cell_type": "markdown",
   "metadata": {
    "application/vnd.databricks.v1+cell": {
     "cellMetadata": {},
     "inputWidgets": {},
     "nuid": "5732cd0f-54a2-4ddc-b1ad-31f41b106430",
     "showTitle": false,
     "title": ""
    },
    "id": "rYckGe4z_axG"
   },
   "source": [
    "## Position Outer to get Null Value   "
   ]
  },
  {
   "cell_type": "code",
   "execution_count": 0,
   "metadata": {
    "application/vnd.databricks.v1+cell": {
     "cellMetadata": {},
     "inputWidgets": {},
     "nuid": "edfd3614-2fc4-4b9d-b091-6fbd5742ba3f",
     "showTitle": false,
     "title": ""
    },
    "colab": {
     "base_uri": "https://localhost:8080/"
    },
    "id": "XkyU4zdMA_Sf",
    "outputId": "3fb2f700-44e3-490d-f2f7-ba820887a036"
   },
   "outputs": [],
   "source": [
    "df_brand.select(df_brand.name, explode_outer(df_brand.Brand)).show()"
   ]
  },
  {
   "cell_type": "markdown",
   "metadata": {
    "application/vnd.databricks.v1+cell": {
     "cellMetadata": {},
     "inputWidgets": {},
     "nuid": "5a51847f-d09f-4b9e-96aa-6aabd8d32716",
     "showTitle": false,
     "title": ""
    },
    "id": "p8SwRrBuEXFD"
   },
   "source": [
    "## Position Explodee"
   ]
  },
  {
   "cell_type": "code",
   "execution_count": 0,
   "metadata": {
    "application/vnd.databricks.v1+cell": {
     "cellMetadata": {},
     "inputWidgets": {},
     "nuid": "6908455e-80ec-47ac-a488-86d4da5280c7",
     "showTitle": false,
     "title": ""
    },
    "colab": {
     "base_uri": "https://localhost:8080/"
    },
    "id": "fe0BbJuQDVoW",
    "outputId": "537f4039-66c4-46bc-dad0-d07c778f34e3"
   },
   "outputs": [],
   "source": [
    "df_brand.select(df_brand.name, explode_outer(df_brand.Brand)).show()"
   ]
  },
  {
   "cell_type": "code",
   "execution_count": 0,
   "metadata": {
    "application/vnd.databricks.v1+cell": {
     "cellMetadata": {},
     "inputWidgets": {},
     "nuid": "88ac083b-077d-40b9-af60-3172a6b609d5",
     "showTitle": false,
     "title": ""
    },
    "colab": {
     "base_uri": "https://localhost:8080/"
    },
    "id": "qulndD_WEc3X",
    "outputId": "4fdf9010-2ca7-46e4-b203-ac779cd5ce05"
   },
   "outputs": [],
   "source": [
    "# array\n",
    "df_app.select('*', posexplode_outer(df_app.Appliances)).show()\n",
    "\n",
    "# map\n",
    "df_brand.select('*', posexplode_outer(df_brand.Brand)).show(200)"
   ]
  },
  {
   "cell_type": "code",
   "execution_count": 0,
   "metadata": {
    "application/vnd.databricks.v1+cell": {
     "cellMetadata": {},
     "inputWidgets": {},
     "nuid": "6b71ee19-47e6-41a0-9020-aff5a15a28f3",
     "showTitle": false,
     "title": ""
    },
    "id": "KO0-2dfoEqTW"
   },
   "outputs": [],
   "source": []
  }
 ],
 "metadata": {
  "application/vnd.databricks.v1+notebook": {
   "dashboards": [],
   "environmentMetadata": null,
   "language": "python",
   "notebookMetadata": {},
   "notebookName": "11_Databricks_|_Pyspark_Explode_Function",
   "widgets": {}
  },
  "colab": {
   "authorship_tag": "ABX9TyPfgn2VEymr6xRkSNYopwNi",
   "mount_file_id": "1rOlnpxy_p3aDFuHKpjRlBI7h9M-NwkqV",
   "provenance": []
  },
  "kernelspec": {
   "display_name": "Python 3",
   "name": "python3"
  },
  "language_info": {
   "name": "python"
  }
 },
 "nbformat": 4,
 "nbformat_minor": 0
}
