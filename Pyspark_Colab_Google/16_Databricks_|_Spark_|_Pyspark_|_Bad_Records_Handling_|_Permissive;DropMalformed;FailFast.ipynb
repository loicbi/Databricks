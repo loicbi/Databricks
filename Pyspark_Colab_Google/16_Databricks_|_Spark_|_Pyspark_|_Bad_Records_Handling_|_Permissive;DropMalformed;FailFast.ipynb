{
 "cells": [
  {
   "cell_type": "markdown",
   "metadata": {
    "application/vnd.databricks.v1+cell": {
     "cellMetadata": {},
     "inputWidgets": {},
     "nuid": "2eb57c05-3e05-4fc4-b015-8b7aed821b9a",
     "showTitle": false,
     "title": ""
    },
    "colab_type": "text",
    "id": "view-in-github"
   },
   "source": [
    "<a href=\"https://colab.research.google.com/github/loicbi/Databricks/blob/develop/16_Databricks_%7C_Spark_%7C_Pyspark_%7C_Bad_Records_Handling_%7C_Permissive%3BDropMalformed%3BFailFast.ipynb\" target=\"_parent\"><img src=\"https://colab.research.google.com/assets/colab-badge.svg\" alt=\"Open In Colab\"/></a>"
   ]
  },
  {
   "cell_type": "code",
   "execution_count": 0,
   "metadata": {
    "application/vnd.databricks.v1+cell": {
     "cellMetadata": {},
     "inputWidgets": {},
     "nuid": "0725cdb0-f6cc-4f6a-ba22-c75d9a553db1",
     "showTitle": false,
     "title": ""
    },
    "colab": {
     "base_uri": "https://localhost:8080/"
    },
    "id": "5poKsdENgL1a",
    "outputId": "328f24a0-a7c1-432d-eb3a-6b7245cd5750"
   },
   "outputs": [],
   "source": [
    "from google.colab import drive\n",
    "drive.mount('/content/drive')"
   ]
  },
  {
   "cell_type": "code",
   "execution_count": 0,
   "metadata": {
    "application/vnd.databricks.v1+cell": {
     "cellMetadata": {},
     "inputWidgets": {},
     "nuid": "f2029a67-9a52-4f69-bf3f-80b4be62d7dc",
     "showTitle": false,
     "title": ""
    },
    "colab": {
     "base_uri": "https://localhost:8080/"
    },
    "id": "PAHeaUwSIS1Y",
    "outputId": "6844e188-e8c9-44ea-9002-80ff91037290"
   },
   "outputs": [],
   "source": [
    "!pip install findspark"
   ]
  },
  {
   "cell_type": "code",
   "execution_count": 0,
   "metadata": {
    "application/vnd.databricks.v1+cell": {
     "cellMetadata": {},
     "inputWidgets": {},
     "nuid": "60aed6fd-6ec4-4217-9cb4-dd47729f7da9",
     "showTitle": false,
     "title": ""
    },
    "colab": {
     "base_uri": "https://localhost:8080/"
    },
    "id": "q3N_gZyPFhMw",
    "outputId": "b2ba6891-24e0-44e1-b5a5-92ba907f68f5"
   },
   "outputs": [],
   "source": [
    "!pip install pyspark"
   ]
  },
  {
   "cell_type": "code",
   "execution_count": 0,
   "metadata": {
    "application/vnd.databricks.v1+cell": {
     "cellMetadata": {},
     "inputWidgets": {},
     "nuid": "ab1925d2-56a1-4443-b9e4-fc18acd1cd2e",
     "showTitle": false,
     "title": ""
    },
    "colab": {
     "base_uri": "https://localhost:8080/"
    },
    "id": "2YNmbGsDFon9",
    "outputId": "1106140b-f183-45ea-cf55-6012304b796d"
   },
   "outputs": [],
   "source": [
    "import findspark\n",
    "from pyspark.sql.functions import  * # to_date, col, split, char_length, lit, trim\n",
    "# findspark.init()\n",
    "from pyspark.sql import SparkSession\n",
    "from pyspark.sql.types import *\n",
    "# Create a SparkSession\n",
    "spark = SparkSession.builder.getOrCreate()\n",
    "# spark = SparkSession.builder.appName(\"app_name\").getOrCreate()\n",
    "spark.conf.set(\"spark.sql.legacy.timeParserPolicy\", \"LEGACY\")\n",
    "\n",
    "schema = StructType([\n",
    "    StructField(\"title\", StringType(), True),\n",
    "    StructField(\"cast\", StringType(), True),\n",
    "    StructField(\"country\", StringType(), True),\n",
    "    StructField(\"date_added\", StringType(), True),\n",
    "    StructField(\"release_year\", IntegerType(), True),\n",
    "    StructField(\"rating\", StringType(), True),\n",
    "    StructField(\"duration\", StringType(), True),\n",
    "    StructField(\"listed_in\", StringType(), True),\n",
    "    StructField(\"description\", StringType(), True),\n",
    "    StructField(\"_corrupt_record\", StringType(), True)\n",
    "])\n",
    "\n",
    "# df = spark.read.format('csv').option('header', True)\\\n",
    "#           .option('mode', 'PERMISSIVE')\\\n",
    "df_permissive = spark.read.format('csv').option('header', True)\\\n",
    "          .option('mode', 'PERMISSIVE')\\\n",
    "          .schema(schema)\\\n",
    "          .load('/content/drive/MyDrive/DATA_ENGINEER/DATABRICKS/AAAA_________IAM___CODING_____Colab Notebooks/Learning/datasset/AFCON/csv_files/netflix_shows.csv')\n",
    "\n",
    "df_permissive.printSchema()\n",
    "df_permissive.show(10)\n"
   ]
  },
  {
   "cell_type": "markdown",
   "metadata": {
    "application/vnd.databricks.v1+cell": {
     "cellMetadata": {},
     "inputWidgets": {},
     "nuid": "d2275e31-5d45-4a15-b7ef-fd099d5755de",
     "showTitle": false,
     "title": ""
    },
    "id": "3n5nqFABcmDa"
   },
   "source": [
    "[Differences between FAILFAST, PERMISSIVE and DROPMALFORED modes in Spark Dataframes\n",
    "](https://medium.com/@coffeeandtips.tech/differences-between-failfast-permissive-and-dropmalfored-modes-in-spark-dataframes-f803ddb098f0)"
   ]
  },
  {
   "cell_type": "markdown",
   "metadata": {
    "application/vnd.databricks.v1+cell": {
     "cellMetadata": {},
     "inputWidgets": {},
     "nuid": "b5dff812-4230-4c12-9901-b098cf37594c",
     "showTitle": false,
     "title": ""
    },
    "id": "Jt82FpsPY7uo"
   },
   "source": [
    "## Dataframe result using DROPMALFORMED mode\n",
    "\n"
   ]
  },
  {
   "cell_type": "code",
   "execution_count": 0,
   "metadata": {
    "application/vnd.databricks.v1+cell": {
     "cellMetadata": {},
     "inputWidgets": {},
     "nuid": "f089cf53-d7a8-4aba-b108-bbf257290f24",
     "showTitle": false,
     "title": ""
    },
    "colab": {
     "base_uri": "https://localhost:8080/"
    },
    "id": "APP9hQiJTRRy",
    "outputId": "558dc29a-3125-4a23-caa6-ba6bd53ecc1f"
   },
   "outputs": [],
   "source": [
    "df_dropmalformed =  spark.read.format('csv').option('header', True)\\\n",
    "          .option('mode', 'DROPMALFORMED')\\\n",
    "          .schema(schema)\\\n",
    "          .load('/content/drive/MyDrive/DATA_ENGINEER/DATABRICKS/AAAA_________IAM___CODING_____Colab Notebooks/Learning/datasset/AFCON/csv_files/netflix_shows.csv')\n",
    "df_dropmalformed.show(10)"
   ]
  },
  {
   "cell_type": "markdown",
   "metadata": {
    "application/vnd.databricks.v1+cell": {
     "cellMetadata": {},
     "inputWidgets": {},
     "nuid": "d5da36a8-944e-4ebf-9ad9-06f53c16b1c0",
     "showTitle": false,
     "title": ""
    },
    "id": "v6ixoY9E3Ado"
   },
   "source": [
    "## Dataframe result using FAILFAST mode\n",
    "\n"
   ]
  },
  {
   "cell_type": "code",
   "execution_count": 0,
   "metadata": {
    "application/vnd.databricks.v1+cell": {
     "cellMetadata": {},
     "inputWidgets": {},
     "nuid": "86731946-4e62-4cfa-a6ef-b3fb5217efe1",
     "showTitle": false,
     "title": ""
    },
    "colab": {
     "base_uri": "https://localhost:8080/",
     "height": 1000
    },
    "id": "1nKCM_aK181A",
    "outputId": "ce7ea4b4-4624-42f9-ec93-8a34c887c7e1"
   },
   "outputs": [],
   "source": [
    "df_failfast =  spark.read.format('csv').option('header', True)\\\n",
    "          .option('mode', 'FAILFAST')\\\n",
    "          .schema(schema)\\\n",
    "          .load('/content/drive/MyDrive/DATA_ENGINEER/DATABRICKS/AAAA_________IAM___CODING_____Colab Notebooks/Learning/datasset/AFCON/csv_files/netflix_shows.csv')\n",
    "df_failfast.show(10)"
   ]
  },
  {
   "cell_type": "code",
   "execution_count": 0,
   "metadata": {
    "application/vnd.databricks.v1+cell": {
     "cellMetadata": {},
     "inputWidgets": {},
     "nuid": "d2a5777d-68b4-46b5-b180-b45e899a1aa8",
     "showTitle": false,
     "title": ""
    },
    "id": "iY9F5ggr3LY3"
   },
   "outputs": [],
   "source": []
  }
 ],
 "metadata": {
  "application/vnd.databricks.v1+notebook": {
   "dashboards": [],
   "environmentMetadata": null,
   "language": "python",
   "notebookMetadata": {},
   "notebookName": "16_Databricks_|_Spark_|_Pyspark_|_Bad_Records_Handling_|_Permissive;DropMalformed;FailFast",
   "widgets": {}
  },
  "colab": {
   "authorship_tag": "ABX9TyN0bLZQs7oq00WwgZvbqhRN",
   "include_colab_link": true,
   "mount_file_id": "1rOlnpxy_p3aDFuHKpjRlBI7h9M-NwkqV",
   "provenance": []
  },
  "kernelspec": {
   "display_name": "Python 3",
   "name": "python3"
  },
  "language_info": {
   "name": "python"
  }
 },
 "nbformat": 4,
 "nbformat_minor": 0
}
