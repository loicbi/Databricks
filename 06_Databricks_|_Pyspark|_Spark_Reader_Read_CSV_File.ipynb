{
  "nbformat": 4,
  "nbformat_minor": 0,
  "metadata": {
    "colab": {
      "provenance": [],
      "mount_file_id": "10a9zwZ82PwzLINLN68LAf58PPOiJ7Fed",
      "authorship_tag": "ABX9TyN8XELg26c1ukHA0+IyZZeO",
      "include_colab_link": true
    },
    "kernelspec": {
      "name": "python3",
      "display_name": "Python 3"
    },
    "language_info": {
      "name": "python"
    }
  },
  "cells": [
    {
      "cell_type": "markdown",
      "metadata": {
        "id": "view-in-github",
        "colab_type": "text"
      },
      "source": [
        "<a href=\"https://colab.research.google.com/github/loicbi/Databricks/blob/develop/06_Databricks_%7C_Pyspark%7C_Spark_Reader_Read_CSV_File.ipynb\" target=\"_parent\"><img src=\"https://colab.research.google.com/assets/colab-badge.svg\" alt=\"Open In Colab\"/></a>"
      ]
    },
    {
      "cell_type": "code",
      "execution_count": null,
      "metadata": {
        "colab": {
          "base_uri": "https://localhost:8080/"
        },
        "id": "q3N_gZyPFhMw",
        "outputId": "9b7e839e-09d2-41db-ddce-b4554c25d753"
      },
      "outputs": [
        {
          "output_type": "stream",
          "name": "stdout",
          "text": [
            "Collecting pyspark\n",
            "  Downloading pyspark-3.5.1.tar.gz (317.0 MB)\n",
            "\u001b[2K     \u001b[90m━━━━━━━━━━━━━━━━━━━━━━━━━━━━━━━━━━━━━━━━\u001b[0m \u001b[32m317.0/317.0 MB\u001b[0m \u001b[31m3.1 MB/s\u001b[0m eta \u001b[36m0:00:00\u001b[0m\n",
            "\u001b[?25h  Preparing metadata (setup.py) ... \u001b[?25l\u001b[?25hdone\n",
            "Requirement already satisfied: py4j==0.10.9.7 in /usr/local/lib/python3.10/dist-packages (from pyspark) (0.10.9.7)\n",
            "Building wheels for collected packages: pyspark\n",
            "  Building wheel for pyspark (setup.py) ... \u001b[?25l\u001b[?25hdone\n",
            "  Created wheel for pyspark: filename=pyspark-3.5.1-py2.py3-none-any.whl size=317488491 sha256=c76e144e5bfc237284f7dae23125fed7f4495a1ec77d7ae56c2dc1322191b408\n",
            "  Stored in directory: /root/.cache/pip/wheels/80/1d/60/2c256ed38dddce2fdd93be545214a63e02fbd8d74fb0b7f3a6\n",
            "Successfully built pyspark\n",
            "Installing collected packages: pyspark\n",
            "Successfully installed pyspark-3.5.1\n"
          ]
        }
      ],
      "source": [
        "!pip install pyspark"
      ]
    },
    {
      "cell_type": "code",
      "source": [
        "!pip install findspark"
      ],
      "metadata": {
        "colab": {
          "base_uri": "https://localhost:8080/"
        },
        "id": "PAHeaUwSIS1Y",
        "outputId": "3457e018-928d-494a-d7e6-640909981a25"
      },
      "execution_count": null,
      "outputs": [
        {
          "output_type": "stream",
          "name": "stdout",
          "text": [
            "Collecting findspark\n",
            "  Downloading findspark-2.0.1-py2.py3-none-any.whl (4.4 kB)\n",
            "Installing collected packages: findspark\n",
            "Successfully installed findspark-2.0.1\n"
          ]
        }
      ]
    },
    {
      "cell_type": "code",
      "source": [
        "\n",
        "import findspark\n",
        "from pyspark.sql.functions import to_date\n",
        "# findspark.init()\n",
        "from pyspark.sql import SparkSession\n",
        "# Create a SparkSession\n",
        "spark = SparkSession.builder.getOrCreate()\n",
        "# spark = SparkSession.builder.appName(\"app_name\").getOrCreate()\n",
        "spark.conf.set(\"spark.sql.legacy.timeParserPolicy\", \"LEGACY\")\n",
        "df = spark.read.format('csv').option('header', True)\\\n",
        "          .option('inferSchema', True)\\\n",
        "          .option('sep', ',')\\\n",
        "          .load('/content/drive/MyDrive/DATA_ENGINEER/DATABRICKS/AAAA_________IAM___CODING_____Colab Notebooks/Learning/datasset/AFCON/Africa Cup of Nations Matches.csv')\n"
      ],
      "metadata": {
        "id": "2YNmbGsDFon9"
      },
      "execution_count": null,
      "outputs": []
    },
    {
      "cell_type": "code",
      "source": [
        "df.show(5)\n",
        "display(df)"
      ],
      "metadata": {
        "colab": {
          "base_uri": "https://localhost:8080/",
          "height": 257
        },
        "id": "qBVv2aANH54M",
        "outputId": "e83cc44a-12d0-484b-d6fe-d866bd59ca3c"
      },
      "execution_count": null,
      "outputs": [
        {
          "output_type": "stream",
          "name": "stdout",
          "text": [
            "+----+---------+-----+---------+-------------+-------------+-------------+----------------+--------------------+--------------------+---------+----------+\n",
            "|Year|    Date |Time | HomeTeam|     AwayTeam|HomeTeamGoals|AwayTeamGoals|           Stage|SpecialWinConditions|             Stadium|     City|Attendance|\n",
            "+----+---------+-----+---------+-------------+-------------+-------------+----------------+--------------------+--------------------+---------+----------+\n",
            "|1957|10-Feb-57| NULL|   Sudan |        Egypt|          1.0|          2.0|      Semifinals|                NULL|   Municipal Stadium| Khartoum|   30000.0|\n",
            "|1957|10-Feb-57| NULL|Ethiopia | South Africa|         NULL|         NULL|      Semifinals|Ethiopia  wins du...|                NULL|     NULL|      NULL|\n",
            "|1957|16-Feb-57| NULL|   Egypt |     Ethiopia|          4.0|          0.0|           Final|                NULL|   Municipal Stadium| Khartoum|   30000.0|\n",
            "|1959|22-May-59| NULL|    Egypt|     Ethiopia|          4.0|          0.0|Final Tournament|                NULL|Prince Farouk Sta...|    Cairo|   30000.0|\n",
            "|1959|25-May-59| NULL|   Sudan |     Ethiopia|          1.0|          0.0|Final Tournament|                NULL|Prince Farouk Sta...|    Cairo|   20000.0|\n",
            "+----+---------+-----+---------+-------------+-------------+-------------+----------------+--------------------+--------------------+---------+----------+\n",
            "only showing top 5 rows\n",
            "\n"
          ]
        },
        {
          "output_type": "display_data",
          "data": {
            "text/plain": [
              "DataFrame[Year: int, Date : string, Time : string, HomeTeam: string, AwayTeam: string, HomeTeamGoals: double, AwayTeamGoals: double, Stage: string, SpecialWinConditions: string, Stadium: string, City: string, Attendance: double]"
            ]
          },
          "metadata": {}
        }
      ]
    },
    {
      "cell_type": "code",
      "source": [
        "df.printSchema()\n",
        "df.count()"
      ],
      "metadata": {
        "colab": {
          "base_uri": "https://localhost:8080/"
        },
        "id": "fnx6YXBGH_2l",
        "outputId": "13b63ec7-89cb-4d8d-e1e3-15ef8796c11e"
      },
      "execution_count": null,
      "outputs": [
        {
          "output_type": "stream",
          "name": "stdout",
          "text": [
            "root\n",
            " |-- Year: integer (nullable = true)\n",
            " |-- Date : string (nullable = true)\n",
            " |-- Time : string (nullable = true)\n",
            " |-- HomeTeam: string (nullable = true)\n",
            " |-- AwayTeam: string (nullable = true)\n",
            " |-- HomeTeamGoals: double (nullable = true)\n",
            " |-- AwayTeamGoals: double (nullable = true)\n",
            " |-- Stage: string (nullable = true)\n",
            " |-- SpecialWinConditions: string (nullable = true)\n",
            " |-- Stadium: string (nullable = true)\n",
            " |-- City: string (nullable = true)\n",
            " |-- Attendance: double (nullable = true)\n",
            "\n"
          ]
        },
        {
          "output_type": "execute_result",
          "data": {
            "text/plain": [
              "674"
            ]
          },
          "metadata": {},
          "execution_count": 5
        }
      ]
    },
    {
      "cell_type": "markdown",
      "source": [
        "## Create own schema name and structure"
      ],
      "metadata": {
        "id": "OUdLneDcPOVO"
      }
    },
    {
      "cell_type": "code",
      "source": [
        "schema_alternance = 'ALTER Attendance string'"
      ],
      "metadata": {
        "id": "sgZXxVDgOPwl"
      },
      "execution_count": null,
      "outputs": []
    },
    {
      "cell_type": "code",
      "source": [
        "df_no_infer_schema = spark.read.format('csv').option('header', True)\\\n",
        "          .option('sep', ',')\\\n",
        "          .load('/content/drive/MyDrive/DATA_ENGINEER/DATABRICKS/AAAA_________IAM___CODING_____Colab Notebooks/Learning/datasset/AFCON/Africa Cup of Nations Matches.csv')\n",
        "df_no_infer_schema.printSchema()"
      ],
      "metadata": {
        "colab": {
          "base_uri": "https://localhost:8080/"
        },
        "id": "bjgY-0eFQDGt",
        "outputId": "df81231d-4e04-4565-cee7-2ced87af8784"
      },
      "execution_count": null,
      "outputs": [
        {
          "output_type": "stream",
          "name": "stdout",
          "text": [
            "root\n",
            " |-- Year: string (nullable = true)\n",
            " |-- Date : string (nullable = true)\n",
            " |-- Time : string (nullable = true)\n",
            " |-- HomeTeam: string (nullable = true)\n",
            " |-- AwayTeam: string (nullable = true)\n",
            " |-- HomeTeamGoals: string (nullable = true)\n",
            " |-- AwayTeamGoals: string (nullable = true)\n",
            " |-- Stage: string (nullable = true)\n",
            " |-- SpecialWinConditions: string (nullable = true)\n",
            " |-- Stadium: string (nullable = true)\n",
            " |-- City: string (nullable = true)\n",
            " |-- Attendance: string (nullable = true)\n",
            "\n"
          ]
        }
      ]
    },
    {
      "cell_type": "markdown",
      "source": [
        "## alter date as Date - Cast Date column\n",
        "\n",
        "### 10-Feb-57 ==> YYYY-MM-DD"
      ],
      "metadata": {
        "id": "41RLF9G6RoAO"
      }
    },
    {
      "cell_type": "code",
      "source": [
        "df_cast_date = df.withColumns({'Date ': to_date(df['Date '], \"dd-MMM-yy\")})\n",
        "df.show(5)\n",
        "df_cast_date.show(5)"
      ],
      "metadata": {
        "colab": {
          "base_uri": "https://localhost:8080/"
        },
        "id": "tNhzoc00QXd3",
        "outputId": "4e1fab06-cb1e-43b7-b8a7-d10f1b186b01"
      },
      "execution_count": null,
      "outputs": [
        {
          "output_type": "stream",
          "name": "stdout",
          "text": [
            "+----+---------+-----+---------+-------------+-------------+-------------+----------------+--------------------+--------------------+---------+----------+\n",
            "|Year|    Date |Time | HomeTeam|     AwayTeam|HomeTeamGoals|AwayTeamGoals|           Stage|SpecialWinConditions|             Stadium|     City|Attendance|\n",
            "+----+---------+-----+---------+-------------+-------------+-------------+----------------+--------------------+--------------------+---------+----------+\n",
            "|1957|10-Feb-57| NULL|   Sudan |        Egypt|          1.0|          2.0|      Semifinals|                NULL|   Municipal Stadium| Khartoum|   30000.0|\n",
            "|1957|10-Feb-57| NULL|Ethiopia | South Africa|         NULL|         NULL|      Semifinals|Ethiopia  wins du...|                NULL|     NULL|      NULL|\n",
            "|1957|16-Feb-57| NULL|   Egypt |     Ethiopia|          4.0|          0.0|           Final|                NULL|   Municipal Stadium| Khartoum|   30000.0|\n",
            "|1959|22-May-59| NULL|    Egypt|     Ethiopia|          4.0|          0.0|Final Tournament|                NULL|Prince Farouk Sta...|    Cairo|   30000.0|\n",
            "|1959|25-May-59| NULL|   Sudan |     Ethiopia|          1.0|          0.0|Final Tournament|                NULL|Prince Farouk Sta...|    Cairo|   20000.0|\n",
            "+----+---------+-----+---------+-------------+-------------+-------------+----------------+--------------------+--------------------+---------+----------+\n",
            "only showing top 5 rows\n",
            "\n",
            "+----+----------+-----+---------+-------------+-------------+-------------+----------------+--------------------+--------------------+---------+----------+\n",
            "|Year|     Date |Time | HomeTeam|     AwayTeam|HomeTeamGoals|AwayTeamGoals|           Stage|SpecialWinConditions|             Stadium|     City|Attendance|\n",
            "+----+----------+-----+---------+-------------+-------------+-------------+----------------+--------------------+--------------------+---------+----------+\n",
            "|1957|1957-02-10| NULL|   Sudan |        Egypt|          1.0|          2.0|      Semifinals|                NULL|   Municipal Stadium| Khartoum|   30000.0|\n",
            "|1957|1957-02-10| NULL|Ethiopia | South Africa|         NULL|         NULL|      Semifinals|Ethiopia  wins du...|                NULL|     NULL|      NULL|\n",
            "|1957|1957-02-16| NULL|   Egypt |     Ethiopia|          4.0|          0.0|           Final|                NULL|   Municipal Stadium| Khartoum|   30000.0|\n",
            "|1959|1959-05-22| NULL|    Egypt|     Ethiopia|          4.0|          0.0|Final Tournament|                NULL|Prince Farouk Sta...|    Cairo|   30000.0|\n",
            "|1959|1959-05-25| NULL|   Sudan |     Ethiopia|          1.0|          0.0|Final Tournament|                NULL|Prince Farouk Sta...|    Cairo|   20000.0|\n",
            "+----+----------+-----+---------+-------------+-------------+-------------+----------------+--------------------+--------------------+---------+----------+\n",
            "only showing top 5 rows\n",
            "\n"
          ]
        }
      ]
    },
    {
      "cell_type": "code",
      "source": [],
      "metadata": {
        "id": "APP9hQiJTRRy"
      },
      "execution_count": null,
      "outputs": []
    }
  ]
}