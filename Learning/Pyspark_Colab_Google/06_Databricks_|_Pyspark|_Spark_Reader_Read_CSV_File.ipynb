{
 "cells": [
  {
   "cell_type": "markdown",
   "metadata": {
    "application/vnd.databricks.v1+cell": {
     "cellMetadata": {},
     "inputWidgets": {},
     "nuid": "1c314f2b-bcb3-4b80-9a0f-519832ceca9a",
     "showTitle": false,
     "title": ""
    },
    "colab_type": "text",
    "id": "view-in-github"
   },
   "source": [
    "<a href=\"https://colab.research.google.com/github/loicbi/Databricks/blob/develop/06_Databricks_%7C_Pyspark%7C_Spark_Reader_Read_CSV_File.ipynb\" target=\"_parent\"><img src=\"https://colab.research.google.com/assets/colab-badge.svg\" alt=\"Open In Colab\"/></a>"
   ]
  },
  {
   "cell_type": "code",
   "execution_count": 0,
   "metadata": {
    "application/vnd.databricks.v1+cell": {
     "cellMetadata": {},
     "inputWidgets": {},
     "nuid": "7532197e-cbeb-4896-b3a5-31786168c01f",
     "showTitle": false,
     "title": ""
    },
    "colab": {
     "base_uri": "https://localhost:8080/"
    },
    "id": "q3N_gZyPFhMw",
    "outputId": "9b7e839e-09d2-41db-ddce-b4554c25d753"
   },
   "outputs": [],
   "source": [
    "!pip install pyspark"
   ]
  },
  {
   "cell_type": "code",
   "execution_count": 0,
   "metadata": {
    "application/vnd.databricks.v1+cell": {
     "cellMetadata": {},
     "inputWidgets": {},
     "nuid": "87a7638f-8203-4276-a304-8f4f55d72d29",
     "showTitle": false,
     "title": ""
    },
    "colab": {
     "base_uri": "https://localhost:8080/"
    },
    "id": "PAHeaUwSIS1Y",
    "outputId": "3457e018-928d-494a-d7e6-640909981a25"
   },
   "outputs": [],
   "source": [
    "!pip install findspark"
   ]
  },
  {
   "cell_type": "code",
   "execution_count": 0,
   "metadata": {
    "application/vnd.databricks.v1+cell": {
     "cellMetadata": {},
     "inputWidgets": {},
     "nuid": "7ade57ab-5d5c-4341-85c0-0f3b5c75d557",
     "showTitle": false,
     "title": ""
    },
    "id": "2YNmbGsDFon9"
   },
   "outputs": [],
   "source": [
    "\n",
    "import findspark\n",
    "from pyspark.sql.functions import to_date\n",
    "# findspark.init()\n",
    "from pyspark.sql import SparkSession\n",
    "# Create a SparkSession\n",
    "spark = SparkSession.builder.getOrCreate()\n",
    "# spark = SparkSession.builder.appName(\"app_name\").getOrCreate()\n",
    "spark.conf.set(\"spark.sql.legacy.timeParserPolicy\", \"LEGACY\")\n",
    "df = spark.read.format('csv').option('header', True)\\\n",
    "          .option('inferSchema', True)\\\n",
    "          .option('sep', ',')\\\n",
    "          .load('/content/drive/MyDrive/DATA_ENGINEER/DATABRICKS/AAAA_________IAM___CODING_____Colab Notebooks/Learning/datasset/AFCON/Africa Cup of Nations Matches.csv')\n"
   ]
  },
  {
   "cell_type": "code",
   "execution_count": 0,
   "metadata": {
    "application/vnd.databricks.v1+cell": {
     "cellMetadata": {},
     "inputWidgets": {},
     "nuid": "292c98c1-1762-49d4-81e8-08c6521bf15e",
     "showTitle": false,
     "title": ""
    },
    "colab": {
     "base_uri": "https://localhost:8080/",
     "height": 257
    },
    "id": "qBVv2aANH54M",
    "outputId": "e83cc44a-12d0-484b-d6fe-d866bd59ca3c"
   },
   "outputs": [],
   "source": [
    "df.show(5)\n",
    "display(df)"
   ]
  },
  {
   "cell_type": "code",
   "execution_count": 0,
   "metadata": {
    "application/vnd.databricks.v1+cell": {
     "cellMetadata": {},
     "inputWidgets": {},
     "nuid": "4595ab1e-59af-40e5-9044-82c87aa8bb21",
     "showTitle": false,
     "title": ""
    },
    "colab": {
     "base_uri": "https://localhost:8080/"
    },
    "id": "fnx6YXBGH_2l",
    "outputId": "13b63ec7-89cb-4d8d-e1e3-15ef8796c11e"
   },
   "outputs": [],
   "source": [
    "df.printSchema()\n",
    "df.count()"
   ]
  },
  {
   "cell_type": "markdown",
   "metadata": {
    "application/vnd.databricks.v1+cell": {
     "cellMetadata": {},
     "inputWidgets": {},
     "nuid": "b9e9d41f-715a-45c8-aa05-2295c42af846",
     "showTitle": false,
     "title": ""
    },
    "id": "OUdLneDcPOVO"
   },
   "source": [
    "## Create own schema name and structure"
   ]
  },
  {
   "cell_type": "code",
   "execution_count": 0,
   "metadata": {
    "application/vnd.databricks.v1+cell": {
     "cellMetadata": {},
     "inputWidgets": {},
     "nuid": "38a7730c-9928-4a55-bbcc-b46666aacee3",
     "showTitle": false,
     "title": ""
    },
    "id": "sgZXxVDgOPwl"
   },
   "outputs": [],
   "source": [
    "schema_alternance = 'ALTER Attendance string'"
   ]
  },
  {
   "cell_type": "code",
   "execution_count": 0,
   "metadata": {
    "application/vnd.databricks.v1+cell": {
     "cellMetadata": {},
     "inputWidgets": {},
     "nuid": "956645ef-443a-4887-8929-e4e0fae75f2c",
     "showTitle": false,
     "title": ""
    },
    "colab": {
     "base_uri": "https://localhost:8080/"
    },
    "id": "bjgY-0eFQDGt",
    "outputId": "df81231d-4e04-4565-cee7-2ced87af8784"
   },
   "outputs": [],
   "source": [
    "df_no_infer_schema = spark.read.format('csv').option('header', True)\\\n",
    "          .option('sep', ',')\\\n",
    "          .load('/content/drive/MyDrive/DATA_ENGINEER/DATABRICKS/AAAA_________IAM___CODING_____Colab Notebooks/Learning/datasset/AFCON/Africa Cup of Nations Matches.csv')\n",
    "df_no_infer_schema.printSchema()"
   ]
  },
  {
   "cell_type": "markdown",
   "metadata": {
    "application/vnd.databricks.v1+cell": {
     "cellMetadata": {},
     "inputWidgets": {},
     "nuid": "e4ea4645-a38c-42aa-aadf-b39bd5c57166",
     "showTitle": false,
     "title": ""
    },
    "id": "41RLF9G6RoAO"
   },
   "source": [
    "## alter date as Date - Cast Date column\n",
    "\n",
    "### 10-Feb-57 ==> YYYY-MM-DD"
   ]
  },
  {
   "cell_type": "code",
   "execution_count": 0,
   "metadata": {
    "application/vnd.databricks.v1+cell": {
     "cellMetadata": {},
     "inputWidgets": {},
     "nuid": "060a4259-d099-4c0f-8024-ebe6e4ec663e",
     "showTitle": false,
     "title": ""
    },
    "colab": {
     "base_uri": "https://localhost:8080/"
    },
    "id": "tNhzoc00QXd3",
    "outputId": "4e1fab06-cb1e-43b7-b8a7-d10f1b186b01"
   },
   "outputs": [],
   "source": [
    "df_cast_date = df.withColumns({'Date ': to_date(df['Date '], \"dd-MMM-yy\")})\n",
    "df.show(5)\n",
    "df_cast_date.show(5)"
   ]
  },
  {
   "cell_type": "code",
   "execution_count": 0,
   "metadata": {
    "application/vnd.databricks.v1+cell": {
     "cellMetadata": {},
     "inputWidgets": {},
     "nuid": "7768fc61-8c7d-4890-96ce-feda3030e7e9",
     "showTitle": false,
     "title": ""
    },
    "id": "APP9hQiJTRRy"
   },
   "outputs": [],
   "source": []
  }
 ],
 "metadata": {
  "application/vnd.databricks.v1+notebook": {
   "dashboards": [],
   "environmentMetadata": null,
   "language": "python",
   "notebookMetadata": {},
   "notebookName": "06_Databricks_|_Pyspark|_Spark_Reader_Read_CSV_File",
   "widgets": {}
  },
  "colab": {
   "authorship_tag": "ABX9TyN8XELg26c1ukHA0+IyZZeO",
   "include_colab_link": true,
   "mount_file_id": "10a9zwZ82PwzLINLN68LAf58PPOiJ7Fed",
   "provenance": []
  },
  "kernelspec": {
   "display_name": "Python 3",
   "name": "python3"
  },
  "language_info": {
   "name": "python"
  }
 },
 "nbformat": 4,
 "nbformat_minor": 0
}
