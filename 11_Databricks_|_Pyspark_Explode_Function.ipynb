{
  "nbformat": 4,
  "nbformat_minor": 0,
  "metadata": {
    "colab": {
      "provenance": [],
      "mount_file_id": "1rOlnpxy_p3aDFuHKpjRlBI7h9M-NwkqV",
      "authorship_tag": "ABX9TyPKjeGVc8LOrMKq1KvmqeE8",
      "include_colab_link": true
    },
    "kernelspec": {
      "name": "python3",
      "display_name": "Python 3"
    },
    "language_info": {
      "name": "python"
    }
  },
  "cells": [
    {
      "cell_type": "markdown",
      "metadata": {
        "id": "view-in-github",
        "colab_type": "text"
      },
      "source": [
        "<a href=\"https://colab.research.google.com/github/loicbi/Databricks/blob/develop/11_Databricks_%7C_Pyspark_Explode_Function.ipynb\" target=\"_parent\"><img src=\"https://colab.research.google.com/assets/colab-badge.svg\" alt=\"Open In Colab\"/></a>"
      ]
    },
    {
      "cell_type": "code",
      "source": [
        "from google.colab import drive\n",
        "drive.mount('/content/drive')"
      ],
      "metadata": {
        "id": "5poKsdENgL1a"
      },
      "execution_count": null,
      "outputs": []
    },
    {
      "cell_type": "code",
      "source": [
        "!pip install findspark"
      ],
      "metadata": {
        "id": "PAHeaUwSIS1Y"
      },
      "execution_count": null,
      "outputs": []
    },
    {
      "cell_type": "code",
      "execution_count": null,
      "metadata": {
        "id": "q3N_gZyPFhMw"
      },
      "outputs": [],
      "source": [
        "!pip install pyspark"
      ]
    },
    {
      "cell_type": "code",
      "source": [
        "import findspark\n",
        "from pyspark.sql.functions import to_date, col, split, char_length, lit, trim, explode\n",
        "# findspark.init()\n",
        "from pyspark.sql import SparkSession\n",
        "# Create a SparkSession\n",
        "spark = SparkSession.builder.getOrCreate()\n",
        "# spark = SparkSession.builder.appName(\"app_name\").getOrCreate()\n",
        "spark.conf.set(\"spark.sql.legacy.timeParserPolicy\", \"LEGACY\")\n",
        "df = spark.read.format('csv').option('header', True)\\\n",
        "          .option('inferSchema', True)\\\n",
        "          .option('sep', ',')\\\n",
        "          .load('/content/drive/MyDrive/DATA_ENGINEER/DATABRICKS/AAAA_________IAM___CODING_____Colab Notebooks/Learning/datasset/AFCON/Africa Cup of Nations Players.csv')\n",
        "\n",
        "df.printSchema()\n",
        "df.show(10)\n"
      ],
      "metadata": {
        "id": "2YNmbGsDFon9"
      },
      "execution_count": null,
      "outputs": []
    },
    {
      "cell_type": "markdown",
      "source": [
        "## Remove space in columns and rows"
      ],
      "metadata": {
        "id": "Jt82FpsPY7uo"
      }
    },
    {
      "cell_type": "code",
      "source": [
        "# Create a list of tuples where the first element is the old column name and the second element is the new column name\n",
        "rename_columns = [(c, c.strip()) for c in df.columns]\n",
        "\n",
        "# Use the withColumnRenamed method with a dictionary to rename multiple columns\n",
        "\n",
        "for current_name, new_name in rename_columns:\n",
        "    df = df.withColumnRenamed(current_name, new_name)\n",
        "    df = df.withColumn(new_name, trim(df[new_name]))\n",
        "\n",
        "\n",
        "# Print the schema of the renamed DataFrame\n",
        "df.printSchema()\n",
        "df.show(10)"
      ],
      "metadata": {
        "id": "fnBSNxaMfzNK"
      },
      "execution_count": null,
      "outputs": []
    },
    {
      "cell_type": "markdown",
      "source": [
        "## Create df with array column"
      ],
      "metadata": {
        "id": "Y6Gg4IV39GBH"
      }
    },
    {
      "cell_type": "code",
      "source": [
        "array_appliance = [\n",
        "    ('Loic', ['TV', 'Refigerator', 'Oven', 'AC']),\n",
        "    ('Andre', ['Refigerator', 'Washing Machine']),\n",
        "    ('Assogba', ['TV', 'Refigerator', 'Computer']),\n",
        "    ('XXXXXX', None),\n",
        "]\n",
        "\n",
        "df_app = spark.createDataFrame(data=array_appliance, schema=['name', 'Appliances'])\n",
        "\n",
        "df_app.printSchema()\n",
        "\n",
        "df_app.show()"
      ],
      "metadata": {
        "colab": {
          "base_uri": "https://localhost:8080/"
        },
        "id": "9RH0Ybla9MdQ",
        "outputId": "05ffa8b9-8478-4e6f-801b-69638ea3c51b"
      },
      "execution_count": 9,
      "outputs": [
        {
          "output_type": "stream",
          "name": "stdout",
          "text": [
            "root\n",
            " |-- name: string (nullable = true)\n",
            " |-- Appliances: array (nullable = true)\n",
            " |    |-- element: string (containsNull = true)\n",
            "\n",
            "+-------+--------------------+\n",
            "|   name|          Appliances|\n",
            "+-------+--------------------+\n",
            "|   Loic|[TV, Refigerator,...|\n",
            "|  Andre|[Refigerator, Was...|\n",
            "|Assogba|[TV, Refigerator,...|\n",
            "| XXXXXX|                NULL|\n",
            "+-------+--------------------+\n",
            "\n"
          ]
        }
      ]
    },
    {
      "cell_type": "markdown",
      "source": [
        "## Create df with array map"
      ],
      "metadata": {
        "id": "PaH5atg49tfq"
      }
    },
    {
      "cell_type": "code",
      "source": [
        "import json\n",
        "data_json = [\n",
        "    {\n",
        "        \"Order ID\": \"GJVSZXTB5M1685168956\",\n",
        "        \"Customer Name\": \"Bertrand Le Renault\",\n",
        "        \"Mobile Model\": \"Apple/iPhone 11 Pro Max/Silver/4GB/512 GB\",\n",
        "        \"Quantity\": 2,\n",
        "        \"Price per Unit\": \"1527\",\n",
        "        \"Total Price\": 3054,\n",
        "        \"Promotion Code\": None,\n",
        "        \"Order Amount\": 3054,\n",
        "        \"Tax\": 610.8000000000001,\n",
        "        \"Order Date\": \"2020-01-02\",\n",
        "        \"Payment Status\": \"Paid\",\n",
        "        \"Shipping Status\": \"Returned\",\n",
        "        \"Payment Method\": \"Debit Card\",\n",
        "        \"Payment Provider\": \"Master\",\n",
        "        \"Phone\": \"03 25 40 48 49\",\n",
        "        \"Delivery Address\": \"avenue Laetitia Bouvet\\n86226 Blanchet\"\n",
        "    },\n",
        "    {\n",
        "        \"Order ID\": \"Z141RRR17K1685168956\",\n",
        "        \"Customer Name\": \"St\\u00e9phane-Ren\\u00e9 Roy\",\n",
        "        \"Mobile Model\": \"Motorola/G6 Play/Fine Gold/3 GB/32 GB\",\n",
        "        \"Quantity\": 1,\n",
        "        \"Price per Unit\": \"132\",\n",
        "        \"Total Price\": 132,\n",
        "        \"Promotion Code\": { \"fafafafafafa\":\n",
        "            {'TV': 'LG', 'Refigerator': 'Samsung', 'Oven': 'Philipps', 'AC': {'TV': 'LG', 'Refigerator': 'Samsung', 'Oven': 'Philipps', 'AC': 'Voltas'}}\n",
        "        },\n",
        "        \"Order Amount\": 112.2,\n",
        "        \"Tax\": 22.44,\n",
        "        \"Order Date\": \"2020-01-02\",\n",
        "        \"Payment Status\": \"Pending\",\n",
        "        \"Shipping Status\": \"Delivered\",\n",
        "        \"Payment Method\": \"Credit Card\",\n",
        "        \"Payment Provider\": \"American Express\",\n",
        "        \"Phone\": \"04 87 43 61 98\",\n",
        "        \"Delivery Address\": \"73, rue Marc Voisin\\n50361 LebonVille\"\n",
        "    },]\n",
        "map_brand = [\n",
        "    ('Loic', {'TV': 'LG', 'Refigerator': 'Samsung', 'Oven': 'Philipps', 'AC': 'Voltas'}),\n",
        "    ('Andre', {'Refigerator': 'Ikea', 'Washing Machine': 'Philipps',}),\n",
        "    ('Assogba', {'TV': 'Samsung', 'Refigerator': 'Sony', 'Computer': 'HP'}),\n",
        "    ('David', data_json[0]),\n",
        "    ('USERRR', data_json[1]),\n",
        "    ('Seka', None),\n",
        "]\n",
        "\n",
        "df_brand = spark.createDataFrame(data=map_brand, schema=['name', 'Brand'])\n",
        "\n",
        "df_brand.printSchema()\n",
        "\n",
        "df_brand.show()\n",
        "\n",
        "\n"
      ],
      "metadata": {
        "colab": {
          "base_uri": "https://localhost:8080/"
        },
        "id": "tXMKSXdVzBex",
        "outputId": "b61eba87-fb4d-43fa-88fe-f340f403121b"
      },
      "execution_count": 10,
      "outputs": [
        {
          "output_type": "stream",
          "name": "stdout",
          "text": [
            "root\n",
            " |-- name: string (nullable = true)\n",
            " |-- Brand: map (nullable = true)\n",
            " |    |-- key: string\n",
            " |    |-- value: string (valueContainsNull = true)\n",
            "\n",
            "+-------+--------------------+\n",
            "|   name|               Brand|\n",
            "+-------+--------------------+\n",
            "|   Loic|{AC -> Voltas, TV...|\n",
            "|  Andre|{Refigerator -> I...|\n",
            "|Assogba|{Computer -> HP, ...|\n",
            "|  David|{Total Price -> 3...|\n",
            "| USERRR|{Total Price -> 1...|\n",
            "|   Seka|                NULL|\n",
            "+-------+--------------------+\n",
            "\n"
          ]
        }
      ]
    },
    {
      "cell_type": "markdown",
      "source": [
        "*Explode provides us to don't show null value in column*\n",
        "\n",
        "*Explode outer provides us to show null value in column*"
      ],
      "metadata": {
        "id": "QMVXDmeT__EG"
      }
    },
    {
      "cell_type": "markdown",
      "source": [
        "## Explode Array"
      ],
      "metadata": {
        "id": "gH0XDnwq-Mr4"
      }
    },
    {
      "cell_type": "code",
      "source": [
        "df_explode_array = df_app.select(df_app.name, explode(df_app.Appliances)).show()"
      ],
      "metadata": {
        "colab": {
          "base_uri": "https://localhost:8080/"
        },
        "id": "jAvlkT8B_tJ-",
        "outputId": "ac9afe7a-5711-416b-cac0-64f55e013b02"
      },
      "execution_count": 12,
      "outputs": [
        {
          "output_type": "stream",
          "name": "stdout",
          "text": [
            "+-------+---------------+\n",
            "|   name|            col|\n",
            "+-------+---------------+\n",
            "|   Loic|             TV|\n",
            "|   Loic|    Refigerator|\n",
            "|   Loic|           Oven|\n",
            "|   Loic|             AC|\n",
            "|  Andre|    Refigerator|\n",
            "|  Andre|Washing Machine|\n",
            "|Assogba|             TV|\n",
            "|Assogba|    Refigerator|\n",
            "|Assogba|       Computer|\n",
            "+-------+---------------+\n",
            "\n"
          ]
        }
      ]
    },
    {
      "cell_type": "markdown",
      "source": [
        "## Explode Map"
      ],
      "metadata": {
        "id": "A7ERWzL_8nMf"
      }
    },
    {
      "cell_type": "code",
      "source": [
        "dfexplode_map = df_brand.select(df_brand.name, explode(df_brand.Brand)).show(200)"
      ],
      "metadata": {
        "colab": {
          "base_uri": "https://localhost:8080/"
        },
        "id": "w0hpeofb0oV6",
        "outputId": "b167aa4d-d2c5-4235-dedd-807808c6c898"
      },
      "execution_count": 14,
      "outputs": [
        {
          "output_type": "stream",
          "name": "stdout",
          "text": [
            "+-------+----------------+--------------------+\n",
            "|   name|             key|               value|\n",
            "+-------+----------------+--------------------+\n",
            "|   Loic|              AC|              Voltas|\n",
            "|   Loic|              TV|                  LG|\n",
            "|   Loic|            Oven|            Philipps|\n",
            "|   Loic|     Refigerator|             Samsung|\n",
            "|  Andre|     Refigerator|                Ikea|\n",
            "|  Andre| Washing Machine|            Philipps|\n",
            "|Assogba|        Computer|                  HP|\n",
            "|Assogba|              TV|             Samsung|\n",
            "|Assogba|     Refigerator|                Sony|\n",
            "|  David|     Total Price|                3054|\n",
            "|  David|  Payment Status|                Paid|\n",
            "|  David|        Order ID|GJVSZXTB5M1685168956|\n",
            "|  David|        Quantity|                   2|\n",
            "|  David|             Tax|   610.8000000000001|\n",
            "|  David|    Order Amount|                3054|\n",
            "|  David|    Mobile Model|Apple/iPhone 11 P...|\n",
            "|  David|Payment Provider|              Master|\n",
            "|  David|  Price per Unit|                1527|\n",
            "|  David|Delivery Address|avenue Laetitia B...|\n",
            "|  David|           Phone|      03 25 40 48 49|\n",
            "|  David|      Order Date|          2020-01-02|\n",
            "|  David|  Promotion Code|                NULL|\n",
            "|  David|  Payment Method|          Debit Card|\n",
            "|  David|   Customer Name| Bertrand Le Renault|\n",
            "|  David| Shipping Status|            Returned|\n",
            "| USERRR|     Total Price|                 132|\n",
            "| USERRR|  Payment Status|             Pending|\n",
            "| USERRR|        Order ID|Z141RRR17K1685168956|\n",
            "| USERRR|        Quantity|                   1|\n",
            "| USERRR|             Tax|               22.44|\n",
            "| USERRR|    Order Amount|               112.2|\n",
            "| USERRR|    Mobile Model|Motorola/G6 Play/...|\n",
            "| USERRR|Payment Provider|    American Express|\n",
            "| USERRR|  Price per Unit|                 132|\n",
            "| USERRR|Delivery Address|73, rue Marc Vois...|\n",
            "| USERRR|           Phone|      04 87 43 61 98|\n",
            "| USERRR|      Order Date|          2020-01-02|\n",
            "| USERRR|  Promotion Code|{fafafafafafa={AC...|\n",
            "| USERRR|  Payment Method|         Credit Card|\n",
            "| USERRR|   Customer Name|   Stéphane-René Roy|\n",
            "| USERRR| Shipping Status|           Delivered|\n",
            "+-------+----------------+--------------------+\n",
            "\n"
          ]
        }
      ]
    },
    {
      "cell_type": "markdown",
      "source": [
        "## Position Outer to get Null Value   "
      ],
      "metadata": {
        "id": "rYckGe4z_axG"
      }
    },
    {
      "cell_type": "code",
      "source": [
        "df_brand.select(df_brand.name, posexplode_outer)"
      ],
      "metadata": {
        "id": "XkyU4zdMA_Sf"
      },
      "execution_count": null,
      "outputs": []
    }
  ]
}