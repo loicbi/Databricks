{
  "nbformat": 4,
  "nbformat_minor": 0,
  "metadata": {
    "colab": {
      "provenance": [],
      "mount_file_id": "1rOlnpxy_p3aDFuHKpjRlBI7h9M-NwkqV",
      "authorship_tag": "ABX9TyPfgn2VEymr6xRkSNYopwNi"
    },
    "kernelspec": {
      "name": "python3",
      "display_name": "Python 3"
    },
    "language_info": {
      "name": "python"
    }
  },
  "cells": [
    {
      "cell_type": "code",
      "source": [
        "from google.colab import drive\n",
        "drive.mount('/content/drive')"
      ],
      "metadata": {
        "id": "5poKsdENgL1a"
      },
      "execution_count": null,
      "outputs": []
    },
    {
      "cell_type": "code",
      "source": [
        "!pip install findspark"
      ],
      "metadata": {
        "id": "PAHeaUwSIS1Y"
      },
      "execution_count": null,
      "outputs": []
    },
    {
      "cell_type": "code",
      "execution_count": null,
      "metadata": {
        "id": "q3N_gZyPFhMw"
      },
      "outputs": [],
      "source": [
        "!pip install pyspark"
      ]
    },
    {
      "cell_type": "code",
      "source": [
        "import findspark\n",
        "from pyspark.sql.functions import *\n",
        "# findspark.init()\n",
        "from pyspark.sql import SparkSession\n",
        "# Create a SparkSession\n",
        "spark = SparkSession.builder.getOrCreate()\n",
        "# spark = SparkSession.builder.appName(\"app_name\").getOrCreate()\n",
        "spark.conf.set(\"spark.sql.legacy.timeParserPolicy\", \"LEGACY\")\n",
        "df = spark.read.format('csv').option('header', True)\\\n",
        "          .option('inferSchema', True)\\\n",
        "          .option('sep', ',')\\\n",
        "          .load('/content/drive/MyDrive/DATA_ENGINEER/DATABRICKS/AAAA_________IAM___CODING_____Colab Notebooks/Learning/datasset/AFCON/Africa Cup of Nations Players.csv')\n",
        "\n",
        "df.printSchema()\n",
        "df.show(10)\n"
      ],
      "metadata": {
        "id": "2YNmbGsDFon9",
        "colab": {
          "base_uri": "https://localhost:8080/"
        },
        "outputId": "7713aa7c-b258-4304-81dc-c05d02a86bde"
      },
      "execution_count": 15,
      "outputs": [
        {
          "output_type": "stream",
          "name": "stdout",
          "text": [
            "root\n",
            " |-- _c0: integer (nullable = true)\n",
            " |-- Year: integer (nullable = true)\n",
            " |-- ShirtNumber: string (nullable = true)\n",
            " |-- PlayerPosition: string (nullable = true)\n",
            " |-- PlayerName: string (nullable = true)\n",
            " |-- DateofBirth(age): string (nullable = true)\n",
            " |-- Caps: string (nullable = true)\n",
            " |-- Goals: string (nullable = true)\n",
            " |-- Club: string (nullable = true)\n",
            " |-- Country: string (nullable = true)\n",
            "\n",
            "+---+----+-----------+--------------+--------------------+--------------------+----+-----+---------+-------+\n",
            "|_c0|Year|ShirtNumber|PlayerPosition|          PlayerName|    DateofBirth(age)|Caps|Goals|     Club|Country|\n",
            "+---+----+-----------+--------------+--------------------+--------------------+----+-----+---------+-------+\n",
            "|  0|1957|       NULL|            GK|            Ali Bakr|                NULL|NULL| NULL|  Zamalek|  Egypt|\n",
            "|  1|1957|       NULL|            GK|\"Paraskos \"\"Brasc...|                NULL|NULL| NULL| El-Qanah|  Egypt|\n",
            "|  2|1957|       NULL|            GK| Abdel-Galil Hameida|                NULL|NULL| NULL|  Al-Ahly|  Egypt|\n",
            "|  3|1957|       NULL|            DF|        Mosaad Daoud|                NULL|NULL| NULL|El-Olympi|  Egypt|\n",
            "|  4|1957|       NULL|            DF|   El-Sayed El-Arabi|                NULL|NULL| NULL|    Teram|  Egypt|\n",
            "|  5|1957|       NULL|            DF|   Abdou-Wahab Selim|                NULL|NULL| NULL|     NULL|  Egypt|\n",
            "|  6|1957|       NULL|            DF| Mohammed El-Zangiri|                NULL|NULL| NULL|     NULL|  Egypt|\n",
            "|  7|1957|       NULL|            DF|   Tarik Ahmed Selim|                NULL|NULL| NULL|     NULL|  Egypt|\n",
            "|  8|1957|       NULL|            DF|       Hanafy Bastan| (1923-12-06)6 De...|NULL| NULL|  Zamalek|  Egypt|\n",
            "|  9|1957|       NULL|            MF|\"Abdel-Kader \"\"Bi...|                NULL|NULL| NULL|     NULL|  Egypt|\n",
            "+---+----+-----------+--------------+--------------------+--------------------+----+-----+---------+-------+\n",
            "only showing top 10 rows\n",
            "\n"
          ]
        }
      ]
    },
    {
      "cell_type": "markdown",
      "source": [
        "## Remove space in columns and rows"
      ],
      "metadata": {
        "id": "Jt82FpsPY7uo"
      }
    },
    {
      "cell_type": "code",
      "source": [
        "# Create a list of tuples where the first element is the old column name and the second element is the new column name\n",
        "rename_columns = [(c, c.strip()) for c in df.columns]\n",
        "\n",
        "# Use the withColumnRenamed method with a dictionary to rename multiple columns\n",
        "\n",
        "for current_name, new_name in rename_columns:\n",
        "    df = df.withColumnRenamed(current_name, new_name)\n",
        "    df = df.withColumn(new_name, trim(df[new_name]))\n",
        "\n",
        "\n",
        "# Print the schema of the renamed DataFrame\n",
        "df.printSchema()\n",
        "df.show(10)"
      ],
      "metadata": {
        "id": "fnBSNxaMfzNK"
      },
      "execution_count": null,
      "outputs": []
    },
    {
      "cell_type": "markdown",
      "source": [
        "## Create df with array column"
      ],
      "metadata": {
        "id": "Y6Gg4IV39GBH"
      }
    },
    {
      "cell_type": "code",
      "source": [
        "array_appliance = [\n",
        "    ('Loic', ['TV', 'Refigerator', 'Oven', 'AC']),\n",
        "    ('Andre', ['Refigerator', 'Washing Machine']),\n",
        "    ('Assogba', ['TV', 'Refigerator', 'Computer']),\n",
        "    ('XXXXXX', None),\n",
        "]\n",
        "\n",
        "df_app = spark.createDataFrame(data=array_appliance, schema=['name', 'Appliances'])\n",
        "\n",
        "df_app.printSchema()\n",
        "\n",
        "df_app.show()"
      ],
      "metadata": {
        "colab": {
          "base_uri": "https://localhost:8080/"
        },
        "id": "9RH0Ybla9MdQ",
        "outputId": "05ffa8b9-8478-4e6f-801b-69638ea3c51b"
      },
      "execution_count": 9,
      "outputs": [
        {
          "output_type": "stream",
          "name": "stdout",
          "text": [
            "root\n",
            " |-- name: string (nullable = true)\n",
            " |-- Appliances: array (nullable = true)\n",
            " |    |-- element: string (containsNull = true)\n",
            "\n",
            "+-------+--------------------+\n",
            "|   name|          Appliances|\n",
            "+-------+--------------------+\n",
            "|   Loic|[TV, Refigerator,...|\n",
            "|  Andre|[Refigerator, Was...|\n",
            "|Assogba|[TV, Refigerator,...|\n",
            "| XXXXXX|                NULL|\n",
            "+-------+--------------------+\n",
            "\n"
          ]
        }
      ]
    },
    {
      "cell_type": "markdown",
      "source": [
        "## Create df with array map"
      ],
      "metadata": {
        "id": "PaH5atg49tfq"
      }
    },
    {
      "cell_type": "code",
      "source": [
        "import json\n",
        "data_json = [\n",
        "    {\n",
        "        \"Order ID\": \"GJVSZXTB5M1685168956\",\n",
        "        \"Customer Name\": \"Bertrand Le Renault\",\n",
        "        \"Mobile Model\": \"Apple/iPhone 11 Pro Max/Silver/4GB/512 GB\",\n",
        "        \"Quantity\": 2,\n",
        "        \"Price per Unit\": \"1527\",\n",
        "        \"Total Price\": 3054,\n",
        "        \"Promotion Code\": None,\n",
        "        \"Order Amount\": 3054,\n",
        "        \"Tax\": 610.8000000000001,\n",
        "        \"Order Date\": \"2020-01-02\",\n",
        "        \"Payment Status\": \"Paid\",\n",
        "        \"Shipping Status\": \"Returned\",\n",
        "        \"Payment Method\": \"Debit Card\",\n",
        "        \"Payment Provider\": \"Master\",\n",
        "        \"Phone\": \"03 25 40 48 49\",\n",
        "        \"Delivery Address\": \"avenue Laetitia Bouvet\\n86226 Blanchet\"\n",
        "    },\n",
        "    {\n",
        "        \"Order ID\": \"Z141RRR17K1685168956\",\n",
        "        \"Customer Name\": \"St\\u00e9phane-Ren\\u00e9 Roy\",\n",
        "        \"Mobile Model\": \"Motorola/G6 Play/Fine Gold/3 GB/32 GB\",\n",
        "        \"Quantity\": 1,\n",
        "        \"Price per Unit\": \"132\",\n",
        "        \"Total Price\": 132,\n",
        "        \"Promotion Code\": { \"fafafafafafa\":\n",
        "            {'TV': 'LG', 'Refigerator': 'Samsung', 'Oven': 'Philipps', 'AC': {'TV': 'LG', 'Refigerator': 'Samsung', 'Oven': 'Philipps', 'AC': 'Voltas'}}\n",
        "        },\n",
        "        \"Order Amount\": 112.2,\n",
        "        \"Tax\": 22.44,\n",
        "        \"Order Date\": \"2020-01-02\",\n",
        "        \"Payment Status\": \"Pending\",\n",
        "        \"Shipping Status\": \"Delivered\",\n",
        "        \"Payment Method\": \"Credit Card\",\n",
        "        \"Payment Provider\": \"American Express\",\n",
        "        \"Phone\": \"04 87 43 61 98\",\n",
        "        \"Delivery Address\": \"73, rue Marc Voisin\\n50361 LebonVille\"\n",
        "    },]\n",
        "map_brand = [\n",
        "    ('EEEE', None),\n",
        "    ('Loic', {'TV': 'LG', 'Refigerator': 'Samsung', 'Oven': 'Philipps', 'AC': 'Voltas'}),\n",
        "    ('Andre', {'Refigerator': 'Ikea', 'Washing Machine': 'Philipps',}),\n",
        "    ('Assogba', {'TV': 'Samsung', 'Refigerator': 'Sony', 'Computer': 'HP'}),\n",
        "    ('David', data_json[0]),\n",
        "    ('USERRR', data_json[1]),\n",
        "]\n",
        "\n",
        "df_brand = spark.createDataFrame(data=map_brand, schema=['name', 'Brand'])\n",
        "\n",
        "df_brand.printSchema()\n",
        "\n",
        "df_brand.show()\n",
        "\n",
        "\n"
      ],
      "metadata": {
        "colab": {
          "base_uri": "https://localhost:8080/"
        },
        "id": "tXMKSXdVzBex",
        "outputId": "dda41e36-8737-4734-b3fd-83683db1f158"
      },
      "execution_count": 17,
      "outputs": [
        {
          "output_type": "stream",
          "name": "stdout",
          "text": [
            "root\n",
            " |-- name: string (nullable = true)\n",
            " |-- Brand: map (nullable = true)\n",
            " |    |-- key: string\n",
            " |    |-- value: string (valueContainsNull = true)\n",
            "\n",
            "+-------+--------------------+\n",
            "|   name|               Brand|\n",
            "+-------+--------------------+\n",
            "|   EEEE|                NULL|\n",
            "|   Loic|{AC -> Voltas, TV...|\n",
            "|  Andre|{Refigerator -> I...|\n",
            "|Assogba|{Computer -> HP, ...|\n",
            "|  David|{Total Price -> 3...|\n",
            "| USERRR|{Total Price -> 1...|\n",
            "+-------+--------------------+\n",
            "\n"
          ]
        }
      ]
    },
    {
      "cell_type": "markdown",
      "source": [
        "*Explode provides us to don't show null value in column*\n",
        "\n",
        "*Explode outer provides us to show null value in column*"
      ],
      "metadata": {
        "id": "QMVXDmeT__EG"
      }
    },
    {
      "cell_type": "markdown",
      "source": [
        "## Explode Array"
      ],
      "metadata": {
        "id": "gH0XDnwq-Mr4"
      }
    },
    {
      "cell_type": "code",
      "source": [
        "df_app.select('*', explode(df_app.Appliances)).show()\n",
        "df_app.select(df_app.name, explode(df_app.Appliances)).show()"
      ],
      "metadata": {
        "colab": {
          "base_uri": "https://localhost:8080/"
        },
        "id": "jAvlkT8B_tJ-",
        "outputId": "c3731352-454a-4229-f01a-d525d7d45a83"
      },
      "execution_count": 20,
      "outputs": [
        {
          "output_type": "stream",
          "name": "stdout",
          "text": [
            "+-------+--------------------+---------------+\n",
            "|   name|          Appliances|            col|\n",
            "+-------+--------------------+---------------+\n",
            "|   Loic|[TV, Refigerator,...|             TV|\n",
            "|   Loic|[TV, Refigerator,...|    Refigerator|\n",
            "|   Loic|[TV, Refigerator,...|           Oven|\n",
            "|   Loic|[TV, Refigerator,...|             AC|\n",
            "|  Andre|[Refigerator, Was...|    Refigerator|\n",
            "|  Andre|[Refigerator, Was...|Washing Machine|\n",
            "|Assogba|[TV, Refigerator,...|             TV|\n",
            "|Assogba|[TV, Refigerator,...|    Refigerator|\n",
            "|Assogba|[TV, Refigerator,...|       Computer|\n",
            "+-------+--------------------+---------------+\n",
            "\n",
            "+-------+---------------+\n",
            "|   name|            col|\n",
            "+-------+---------------+\n",
            "|   Loic|             TV|\n",
            "|   Loic|    Refigerator|\n",
            "|   Loic|           Oven|\n",
            "|   Loic|             AC|\n",
            "|  Andre|    Refigerator|\n",
            "|  Andre|Washing Machine|\n",
            "|Assogba|             TV|\n",
            "|Assogba|    Refigerator|\n",
            "|Assogba|       Computer|\n",
            "+-------+---------------+\n",
            "\n"
          ]
        }
      ]
    },
    {
      "cell_type": "markdown",
      "source": [
        "## Explode Map"
      ],
      "metadata": {
        "id": "A7ERWzL_8nMf"
      }
    },
    {
      "cell_type": "code",
      "source": [
        "dfexplode_map = df_brand.select(df_brand.name, explode(df_brand.Brand)).show(200)"
      ],
      "metadata": {
        "colab": {
          "base_uri": "https://localhost:8080/"
        },
        "id": "w0hpeofb0oV6",
        "outputId": "b167aa4d-d2c5-4235-dedd-807808c6c898"
      },
      "execution_count": 14,
      "outputs": [
        {
          "output_type": "stream",
          "name": "stdout",
          "text": [
            "+-------+----------------+--------------------+\n",
            "|   name|             key|               value|\n",
            "+-------+----------------+--------------------+\n",
            "|   Loic|              AC|              Voltas|\n",
            "|   Loic|              TV|                  LG|\n",
            "|   Loic|            Oven|            Philipps|\n",
            "|   Loic|     Refigerator|             Samsung|\n",
            "|  Andre|     Refigerator|                Ikea|\n",
            "|  Andre| Washing Machine|            Philipps|\n",
            "|Assogba|        Computer|                  HP|\n",
            "|Assogba|              TV|             Samsung|\n",
            "|Assogba|     Refigerator|                Sony|\n",
            "|  David|     Total Price|                3054|\n",
            "|  David|  Payment Status|                Paid|\n",
            "|  David|        Order ID|GJVSZXTB5M1685168956|\n",
            "|  David|        Quantity|                   2|\n",
            "|  David|             Tax|   610.8000000000001|\n",
            "|  David|    Order Amount|                3054|\n",
            "|  David|    Mobile Model|Apple/iPhone 11 P...|\n",
            "|  David|Payment Provider|              Master|\n",
            "|  David|  Price per Unit|                1527|\n",
            "|  David|Delivery Address|avenue Laetitia B...|\n",
            "|  David|           Phone|      03 25 40 48 49|\n",
            "|  David|      Order Date|          2020-01-02|\n",
            "|  David|  Promotion Code|                NULL|\n",
            "|  David|  Payment Method|          Debit Card|\n",
            "|  David|   Customer Name| Bertrand Le Renault|\n",
            "|  David| Shipping Status|            Returned|\n",
            "| USERRR|     Total Price|                 132|\n",
            "| USERRR|  Payment Status|             Pending|\n",
            "| USERRR|        Order ID|Z141RRR17K1685168956|\n",
            "| USERRR|        Quantity|                   1|\n",
            "| USERRR|             Tax|               22.44|\n",
            "| USERRR|    Order Amount|               112.2|\n",
            "| USERRR|    Mobile Model|Motorola/G6 Play/...|\n",
            "| USERRR|Payment Provider|    American Express|\n",
            "| USERRR|  Price per Unit|                 132|\n",
            "| USERRR|Delivery Address|73, rue Marc Vois...|\n",
            "| USERRR|           Phone|      04 87 43 61 98|\n",
            "| USERRR|      Order Date|          2020-01-02|\n",
            "| USERRR|  Promotion Code|{fafafafafafa={AC...|\n",
            "| USERRR|  Payment Method|         Credit Card|\n",
            "| USERRR|   Customer Name|   Stéphane-René Roy|\n",
            "| USERRR| Shipping Status|           Delivered|\n",
            "+-------+----------------+--------------------+\n",
            "\n"
          ]
        }
      ]
    },
    {
      "cell_type": "markdown",
      "source": [
        "## Position Outer to get Null Value   "
      ],
      "metadata": {
        "id": "rYckGe4z_axG"
      }
    },
    {
      "cell_type": "code",
      "source": [
        "df_brand.select(df_brand.name, explode_outer(df_brand.Brand)).show()"
      ],
      "metadata": {
        "colab": {
          "base_uri": "https://localhost:8080/"
        },
        "id": "XkyU4zdMA_Sf",
        "outputId": "3fb2f700-44e3-490d-f2f7-ba820887a036"
      },
      "execution_count": 18,
      "outputs": [
        {
          "output_type": "stream",
          "name": "stdout",
          "text": [
            "+-------+----------------+--------------------+\n",
            "|   name|             key|               value|\n",
            "+-------+----------------+--------------------+\n",
            "|   EEEE|            NULL|                NULL|\n",
            "|   Loic|              AC|              Voltas|\n",
            "|   Loic|              TV|                  LG|\n",
            "|   Loic|            Oven|            Philipps|\n",
            "|   Loic|     Refigerator|             Samsung|\n",
            "|  Andre|     Refigerator|                Ikea|\n",
            "|  Andre| Washing Machine|            Philipps|\n",
            "|Assogba|        Computer|                  HP|\n",
            "|Assogba|              TV|             Samsung|\n",
            "|Assogba|     Refigerator|                Sony|\n",
            "|  David|     Total Price|                3054|\n",
            "|  David|  Payment Status|                Paid|\n",
            "|  David|        Order ID|GJVSZXTB5M1685168956|\n",
            "|  David|        Quantity|                   2|\n",
            "|  David|             Tax|   610.8000000000001|\n",
            "|  David|    Order Amount|                3054|\n",
            "|  David|    Mobile Model|Apple/iPhone 11 P...|\n",
            "|  David|Payment Provider|              Master|\n",
            "|  David|  Price per Unit|                1527|\n",
            "|  David|Delivery Address|avenue Laetitia B...|\n",
            "+-------+----------------+--------------------+\n",
            "only showing top 20 rows\n",
            "\n"
          ]
        }
      ]
    },
    {
      "cell_type": "markdown",
      "source": [
        "## Position Explodee"
      ],
      "metadata": {
        "id": "p8SwRrBuEXFD"
      }
    },
    {
      "cell_type": "code",
      "source": [
        "df_brand.select(df_brand.name, explode_outer(df_brand.Brand)).show()"
      ],
      "metadata": {
        "colab": {
          "base_uri": "https://localhost:8080/"
        },
        "id": "fe0BbJuQDVoW",
        "outputId": "537f4039-66c4-46bc-dad0-d07c778f34e3"
      },
      "execution_count": 19,
      "outputs": [
        {
          "output_type": "stream",
          "name": "stdout",
          "text": [
            "+-------+--------------------+----------------+--------------------+\n",
            "|   name|               Brand|             key|               value|\n",
            "+-------+--------------------+----------------+--------------------+\n",
            "|   EEEE|                NULL|            NULL|                NULL|\n",
            "|   Loic|{AC -> Voltas, TV...|              AC|              Voltas|\n",
            "|   Loic|{AC -> Voltas, TV...|              TV|                  LG|\n",
            "|   Loic|{AC -> Voltas, TV...|            Oven|            Philipps|\n",
            "|   Loic|{AC -> Voltas, TV...|     Refigerator|             Samsung|\n",
            "|  Andre|{Refigerator -> I...|     Refigerator|                Ikea|\n",
            "|  Andre|{Refigerator -> I...| Washing Machine|            Philipps|\n",
            "|Assogba|{Computer -> HP, ...|        Computer|                  HP|\n",
            "|Assogba|{Computer -> HP, ...|              TV|             Samsung|\n",
            "|Assogba|{Computer -> HP, ...|     Refigerator|                Sony|\n",
            "|  David|{Total Price -> 3...|     Total Price|                3054|\n",
            "|  David|{Total Price -> 3...|  Payment Status|                Paid|\n",
            "|  David|{Total Price -> 3...|        Order ID|GJVSZXTB5M1685168956|\n",
            "|  David|{Total Price -> 3...|        Quantity|                   2|\n",
            "|  David|{Total Price -> 3...|             Tax|   610.8000000000001|\n",
            "|  David|{Total Price -> 3...|    Order Amount|                3054|\n",
            "|  David|{Total Price -> 3...|    Mobile Model|Apple/iPhone 11 P...|\n",
            "|  David|{Total Price -> 3...|Payment Provider|              Master|\n",
            "|  David|{Total Price -> 3...|  Price per Unit|                1527|\n",
            "|  David|{Total Price -> 3...|Delivery Address|avenue Laetitia B...|\n",
            "+-------+--------------------+----------------+--------------------+\n",
            "only showing top 20 rows\n",
            "\n"
          ]
        }
      ]
    },
    {
      "cell_type": "code",
      "source": [
        "# array\n",
        "df_app.select('*', posexplode_outer(df_app.Appliances)).show()\n",
        "\n",
        "# map\n",
        "df_brand.select('*', posexplode_outer(df_brand.Brand)).show(200)"
      ],
      "metadata": {
        "colab": {
          "base_uri": "https://localhost:8080/"
        },
        "id": "qulndD_WEc3X",
        "outputId": "4fdf9010-2ca7-46e4-b203-ac779cd5ce05"
      },
      "execution_count": 26,
      "outputs": [
        {
          "output_type": "stream",
          "name": "stdout",
          "text": [
            "+-------+--------------------+----+---------------+\n",
            "|   name|          Appliances| pos|            col|\n",
            "+-------+--------------------+----+---------------+\n",
            "|   Loic|[TV, Refigerator,...|   0|             TV|\n",
            "|   Loic|[TV, Refigerator,...|   1|    Refigerator|\n",
            "|   Loic|[TV, Refigerator,...|   2|           Oven|\n",
            "|   Loic|[TV, Refigerator,...|   3|             AC|\n",
            "|  Andre|[Refigerator, Was...|   0|    Refigerator|\n",
            "|  Andre|[Refigerator, Was...|   1|Washing Machine|\n",
            "|Assogba|[TV, Refigerator,...|   0|             TV|\n",
            "|Assogba|[TV, Refigerator,...|   1|    Refigerator|\n",
            "|Assogba|[TV, Refigerator,...|   2|       Computer|\n",
            "| XXXXXX|                NULL|NULL|           NULL|\n",
            "+-------+--------------------+----+---------------+\n",
            "\n",
            "+-------+--------------------+----+----------------+--------------------+\n",
            "|   name|               Brand| pos|             key|               value|\n",
            "+-------+--------------------+----+----------------+--------------------+\n",
            "|   EEEE|                NULL|NULL|            NULL|                NULL|\n",
            "|   Loic|{AC -> Voltas, TV...|   0|              AC|              Voltas|\n",
            "|   Loic|{AC -> Voltas, TV...|   1|              TV|                  LG|\n",
            "|   Loic|{AC -> Voltas, TV...|   2|            Oven|            Philipps|\n",
            "|   Loic|{AC -> Voltas, TV...|   3|     Refigerator|             Samsung|\n",
            "|  Andre|{Refigerator -> I...|   0|     Refigerator|                Ikea|\n",
            "|  Andre|{Refigerator -> I...|   1| Washing Machine|            Philipps|\n",
            "|Assogba|{Computer -> HP, ...|   0|        Computer|                  HP|\n",
            "|Assogba|{Computer -> HP, ...|   1|              TV|             Samsung|\n",
            "|Assogba|{Computer -> HP, ...|   2|     Refigerator|                Sony|\n",
            "|  David|{Total Price -> 3...|   0|     Total Price|                3054|\n",
            "|  David|{Total Price -> 3...|   1|  Payment Status|                Paid|\n",
            "|  David|{Total Price -> 3...|   2|        Order ID|GJVSZXTB5M1685168956|\n",
            "|  David|{Total Price -> 3...|   3|        Quantity|                   2|\n",
            "|  David|{Total Price -> 3...|   4|             Tax|   610.8000000000001|\n",
            "|  David|{Total Price -> 3...|   5|    Order Amount|                3054|\n",
            "|  David|{Total Price -> 3...|   6|    Mobile Model|Apple/iPhone 11 P...|\n",
            "|  David|{Total Price -> 3...|   7|Payment Provider|              Master|\n",
            "|  David|{Total Price -> 3...|   8|  Price per Unit|                1527|\n",
            "|  David|{Total Price -> 3...|   9|Delivery Address|avenue Laetitia B...|\n",
            "|  David|{Total Price -> 3...|  10|           Phone|      03 25 40 48 49|\n",
            "|  David|{Total Price -> 3...|  11|      Order Date|          2020-01-02|\n",
            "|  David|{Total Price -> 3...|  12|  Promotion Code|                NULL|\n",
            "|  David|{Total Price -> 3...|  13|  Payment Method|          Debit Card|\n",
            "|  David|{Total Price -> 3...|  14|   Customer Name| Bertrand Le Renault|\n",
            "|  David|{Total Price -> 3...|  15| Shipping Status|            Returned|\n",
            "| USERRR|{Total Price -> 1...|   0|     Total Price|                 132|\n",
            "| USERRR|{Total Price -> 1...|   1|  Payment Status|             Pending|\n",
            "| USERRR|{Total Price -> 1...|   2|        Order ID|Z141RRR17K1685168956|\n",
            "| USERRR|{Total Price -> 1...|   3|        Quantity|                   1|\n",
            "| USERRR|{Total Price -> 1...|   4|             Tax|               22.44|\n",
            "| USERRR|{Total Price -> 1...|   5|    Order Amount|               112.2|\n",
            "| USERRR|{Total Price -> 1...|   6|    Mobile Model|Motorola/G6 Play/...|\n",
            "| USERRR|{Total Price -> 1...|   7|Payment Provider|    American Express|\n",
            "| USERRR|{Total Price -> 1...|   8|  Price per Unit|                 132|\n",
            "| USERRR|{Total Price -> 1...|   9|Delivery Address|73, rue Marc Vois...|\n",
            "| USERRR|{Total Price -> 1...|  10|           Phone|      04 87 43 61 98|\n",
            "| USERRR|{Total Price -> 1...|  11|      Order Date|          2020-01-02|\n",
            "| USERRR|{Total Price -> 1...|  12|  Promotion Code|{fafafafafafa={AC...|\n",
            "| USERRR|{Total Price -> 1...|  13|  Payment Method|         Credit Card|\n",
            "| USERRR|{Total Price -> 1...|  14|   Customer Name|   Stéphane-René Roy|\n",
            "| USERRR|{Total Price -> 1...|  15| Shipping Status|           Delivered|\n",
            "+-------+--------------------+----+----------------+--------------------+\n",
            "\n"
          ]
        }
      ]
    },
    {
      "cell_type": "code",
      "source": [],
      "metadata": {
        "id": "KO0-2dfoEqTW"
      },
      "execution_count": null,
      "outputs": []
    }
  ]
}