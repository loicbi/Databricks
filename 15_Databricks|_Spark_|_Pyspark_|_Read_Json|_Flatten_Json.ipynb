{
  "nbformat": 4,
  "nbformat_minor": 0,
  "metadata": {
    "colab": {
      "provenance": [],
      "mount_file_id": "1rOlnpxy_p3aDFuHKpjRlBI7h9M-NwkqV",
      "authorship_tag": "ABX9TyOtskVr7W2ilDFQ/7Zn9CfR"
    },
    "kernelspec": {
      "name": "python3",
      "display_name": "Python 3"
    },
    "language_info": {
      "name": "python"
    }
  },
  "cells": [
    {
      "cell_type": "code",
      "source": [
        "from google.colab import drive\n",
        "drive.mount('/content/drive')"
      ],
      "metadata": {
        "id": "5poKsdENgL1a",
        "colab": {
          "base_uri": "https://localhost:8080/"
        },
        "outputId": "bb94a69b-7e59-4c06-9fd2-09c562931c12"
      },
      "execution_count": 1,
      "outputs": [
        {
          "output_type": "stream",
          "name": "stdout",
          "text": [
            "Mounted at /content/drive\n"
          ]
        }
      ]
    },
    {
      "cell_type": "code",
      "source": [
        "!pip install findspark"
      ],
      "metadata": {
        "id": "PAHeaUwSIS1Y",
        "colab": {
          "base_uri": "https://localhost:8080/"
        },
        "outputId": "d4c43750-a334-4a89-8afe-e92be954b830"
      },
      "execution_count": 2,
      "outputs": [
        {
          "output_type": "stream",
          "name": "stdout",
          "text": [
            "Collecting findspark\n",
            "  Downloading findspark-2.0.1-py2.py3-none-any.whl (4.4 kB)\n",
            "Installing collected packages: findspark\n",
            "Successfully installed findspark-2.0.1\n"
          ]
        }
      ]
    },
    {
      "cell_type": "code",
      "execution_count": 3,
      "metadata": {
        "id": "q3N_gZyPFhMw",
        "colab": {
          "base_uri": "https://localhost:8080/"
        },
        "outputId": "a5592859-4511-486a-e2af-478664735d8a"
      },
      "outputs": [
        {
          "output_type": "stream",
          "name": "stdout",
          "text": [
            "Collecting pyspark\n",
            "  Downloading pyspark-3.5.1.tar.gz (317.0 MB)\n",
            "\u001b[2K     \u001b[90m━━━━━━━━━━━━━━━━━━━━━━━━━━━━━━━━━━━━━━━━\u001b[0m \u001b[32m317.0/317.0 MB\u001b[0m \u001b[31m1.7 MB/s\u001b[0m eta \u001b[36m0:00:00\u001b[0m\n",
            "\u001b[?25h  Preparing metadata (setup.py) ... \u001b[?25l\u001b[?25hdone\n",
            "Requirement already satisfied: py4j==0.10.9.7 in /usr/local/lib/python3.10/dist-packages (from pyspark) (0.10.9.7)\n",
            "Building wheels for collected packages: pyspark\n",
            "  Building wheel for pyspark (setup.py) ... \u001b[?25l\u001b[?25hdone\n",
            "  Created wheel for pyspark: filename=pyspark-3.5.1-py2.py3-none-any.whl size=317488491 sha256=81ae57eb56c4e7dae9795202e218d39bc6aea8d1950b56e46548be421c008698\n",
            "  Stored in directory: /root/.cache/pip/wheels/80/1d/60/2c256ed38dddce2fdd93be545214a63e02fbd8d74fb0b7f3a6\n",
            "Successfully built pyspark\n",
            "Installing collected packages: pyspark\n",
            "Successfully installed pyspark-3.5.1\n"
          ]
        }
      ],
      "source": [
        "!pip install pyspark"
      ]
    },
    {
      "cell_type": "code",
      "source": [
        "import findspark\n",
        "from pyspark.sql.functions import  * # to_date, col, split, char_length, lit, trim\n",
        "# findspark.init()\n",
        "from pyspark.sql import SparkSession\n",
        "# Create a SparkSession\n",
        "spark = SparkSession.builder.getOrCreate()\n",
        "# spark = SparkSession.builder.appName(\"app_name\").getOrCreate()\n",
        "spark.conf.set(\"spark.sql.legacy.timeParserPolicy\", \"LEGACY\")\n",
        "\n",
        "\n",
        "df = spark.read.option('multiline', 'true').json(\"/content/drive/MyDrive/DATA_ENGINEER/DATABRICKS/AAAA_________IAM___CODING_____Colab Notebooks/Learning/datasset/AFCON/json_files/US_category_id.json\")\n",
        "df.printSchema()\n",
        "df.show(10)\n"
      ],
      "metadata": {
        "id": "2YNmbGsDFon9",
        "colab": {
          "base_uri": "https://localhost:8080/"
        },
        "outputId": "6e00b9cb-e8e4-4776-8f88-620c78868716"
      },
      "execution_count": 8,
      "outputs": [
        {
          "output_type": "stream",
          "name": "stdout",
          "text": [
            "root\n",
            " |-- etag: string (nullable = true)\n",
            " |-- items: array (nullable = true)\n",
            " |    |-- element: struct (containsNull = true)\n",
            " |    |    |-- etag: string (nullable = true)\n",
            " |    |    |-- id: string (nullable = true)\n",
            " |    |    |-- kind: string (nullable = true)\n",
            " |    |    |-- snippet: struct (nullable = true)\n",
            " |    |    |    |-- assignable: boolean (nullable = true)\n",
            " |    |    |    |-- channelId: string (nullable = true)\n",
            " |    |    |    |-- title: string (nullable = true)\n",
            " |-- kind: string (nullable = true)\n",
            "\n",
            "+--------------------+--------------------+--------------------+\n",
            "|                etag|               items|                kind|\n",
            "+--------------------+--------------------+--------------------+\n",
            "|\"m2yskBQFythfE4ir...|[{\"m2yskBQFythfE4...|youtube#videoCate...|\n",
            "+--------------------+--------------------+--------------------+\n",
            "\n"
          ]
        }
      ]
    },
    {
      "cell_type": "code",
      "source": [
        "\n",
        "#Flatten array of structs and structs\n",
        "def flatten(df):\n",
        "  #  compute Complex Fields (Lists and Structs) in Schema\n",
        "   complex_fields = dict([(field.name, field.dataType)\n",
        "                             for field in df.schema.fields\n",
        "                             if type(field.dataType) == ArrayType or  type(field.dataType) == StructType])\n",
        "   while len(complex_fields)!=0:\n",
        "      col_name=list(complex_fields.keys())[0]\n",
        "      print (\"Processing :\"+col_name+\" Type : \"+str(type(complex_fields[col_name])))\n",
        "\n",
        "      # if StructType then convert all sub element to columns.\n",
        "      # i.e. flatten structs\n",
        "      if (type(complex_fields[col_name]) == StructType):\n",
        "         expanded = [col(col_name+'.'+k).alias(col_name+'_'+k) for k in [ n.name for n in  complex_fields[col_name]]]\n",
        "         df=df.select(\"*\", *expanded).drop(col_name)\n",
        "\n",
        "      # if ArrayType then add the Array Elements as Rows using the explode function\n",
        "      # i.e. explode Arrays\n",
        "      elif (type(complex_fields[col_name]) == ArrayType):\n",
        "         df=df.withColumn(col_name,explode_outer(col_name))\n",
        "\n",
        "      # recompute remaining Complex Fields in Schema\n",
        "      complex_fields = dict([(field.name, field.dataType)\n",
        "                             for field in df.schema.fields\n",
        "                             if type(field.dataType) == ArrayType or  type(field.dataType) == StructType])\n",
        "   return df"
      ],
      "metadata": {
        "id": "AQhewVetmaG9"
      },
      "execution_count": 9,
      "outputs": []
    },
    {
      "cell_type": "code",
      "source": [
        "df_flatten = flatten(df)"
      ],
      "metadata": {
        "colab": {
          "base_uri": "https://localhost:8080/"
        },
        "id": "pYv1Tt87mpFF",
        "outputId": "eca27caa-fe7b-44f4-de1b-7bcf78e5ae8f"
      },
      "execution_count": 10,
      "outputs": [
        {
          "output_type": "stream",
          "name": "stdout",
          "text": [
            "Processing :items Type : <class 'pyspark.sql.types.ArrayType'>\n",
            "Processing :items Type : <class 'pyspark.sql.types.StructType'>\n",
            "Processing :items_snippet Type : <class 'pyspark.sql.types.StructType'>\n"
          ]
        }
      ]
    },
    {
      "cell_type": "code",
      "source": [
        "df_flatten.show()"
      ],
      "metadata": {
        "colab": {
          "base_uri": "https://localhost:8080/"
        },
        "id": "Qu741ttJqSOd",
        "outputId": "c9e5ff34-9a43-40e2-a8d4-9fcd296ef6cc"
      },
      "execution_count": 11,
      "outputs": [
        {
          "output_type": "stream",
          "name": "stdout",
          "text": [
            "+--------------------+--------------------+--------------------+--------+--------------------+------------------------+-----------------------+-------------------+\n",
            "|                etag|                kind|          items_etag|items_id|          items_kind|items_snippet_assignable|items_snippet_channelId|items_snippet_title|\n",
            "+--------------------+--------------------+--------------------+--------+--------------------+------------------------+-----------------------+-------------------+\n",
            "|\"m2yskBQFythfE4ir...|youtube#videoCate...|\"m2yskBQFythfE4ir...|       1|youtube#videoCate...|                    true|   UCBR8-60-B28hp2Bm...|   Film & Animation|\n",
            "|\"m2yskBQFythfE4ir...|youtube#videoCate...|\"m2yskBQFythfE4ir...|       2|youtube#videoCate...|                    true|   UCBR8-60-B28hp2Bm...|   Autos & Vehicles|\n",
            "|\"m2yskBQFythfE4ir...|youtube#videoCate...|\"m2yskBQFythfE4ir...|      10|youtube#videoCate...|                    true|   UCBR8-60-B28hp2Bm...|              Music|\n",
            "|\"m2yskBQFythfE4ir...|youtube#videoCate...|\"m2yskBQFythfE4ir...|      15|youtube#videoCate...|                    true|   UCBR8-60-B28hp2Bm...|     Pets & Animals|\n",
            "|\"m2yskBQFythfE4ir...|youtube#videoCate...|\"m2yskBQFythfE4ir...|      17|youtube#videoCate...|                    true|   UCBR8-60-B28hp2Bm...|             Sports|\n",
            "|\"m2yskBQFythfE4ir...|youtube#videoCate...|\"m2yskBQFythfE4ir...|      18|youtube#videoCate...|                   false|   UCBR8-60-B28hp2Bm...|       Short Movies|\n",
            "|\"m2yskBQFythfE4ir...|youtube#videoCate...|\"m2yskBQFythfE4ir...|      19|youtube#videoCate...|                    true|   UCBR8-60-B28hp2Bm...|    Travel & Events|\n",
            "+--------------------+--------------------+--------------------+--------+--------------------+------------------------+-----------------------+-------------------+\n",
            "\n"
          ]
        }
      ]
    },
    {
      "cell_type": "code",
      "source": [],
      "metadata": {
        "id": "3dUg6JAEqUOt"
      },
      "execution_count": null,
      "outputs": []
    }
  ]
}